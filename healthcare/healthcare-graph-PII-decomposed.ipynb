{
 "cells": [
  {
   "cell_type": "code",
   "execution_count": 1,
   "id": "9bf51028-5e52-4909-8d91-33efc66dde6f",
   "metadata": {},
   "outputs": [],
   "source": [
    "import uuid"
   ]
  },
  {
   "cell_type": "code",
   "execution_count": 2,
   "id": "f80123e9-70ec-4771-97e0-b88c54f08eed",
   "metadata": {},
   "outputs": [],
   "source": [
    "import getpass\n",
    "import os\n",
    "\n",
    "def _set_env(var: str):\n",
    "    if not os.environ.get(var):\n",
    "        os.environ[var] = getpass.getpass(f\"{var}: \")\n",
    "\n",
    "_set_env(\"ANTHROPIC_API_KEY\")"
   ]
  },
  {
   "cell_type": "code",
   "execution_count": 3,
   "id": "5bdb7444-be2f-49fd-ac09-3f955bd0c800",
   "metadata": {},
   "outputs": [],
   "source": [
    "# (Optional) Enable tracing\n",
    "os.environ[\"LANGCHAIN_TRACING_V2\"] = \"true\"\n",
    "os.environ[\"LANGCHAIN_PROJECT\"] = \"healthcare-transcripts\"\n",
    "\n",
    "if \"LANGCHAIN_API_KEY\" not in os.environ:\n",
    "    os.environ[\"LANGCHAIN_API_KEY\"] = getpass.getpass(\"Enter your LANGCHAIN_API_KEY: \")"
   ]
  },
  {
   "cell_type": "code",
   "execution_count": 4,
   "id": "4d4cbebb-dc55-4a7e-b9de-80a089cfded3",
   "metadata": {},
   "outputs": [],
   "source": [
    "import pandas as pd\n",
    "\n",
    "data = pd.read_parquet(\"hf://datasets/urvog/llama2_transcripts_healthcare_callcenter/data/train-00000-of-00001-643ef6d7d804c522.parquet\")"
   ]
  },
  {
   "cell_type": "code",
   "execution_count": 5,
   "id": "e20d91c2-9dfe-4c4a-91e6-464ef18d8c3b",
   "metadata": {},
   "outputs": [],
   "source": [
    "import logging\n",
    "import operator\n",
    "from typing import Annotated, List, Optional, TypedDict, Sequence\n",
    "from langchain_core.messages import BaseMessage\n",
    "\n",
    "logging.basicConfig(level=logging.WARNING)\n",
    "logger = logging.getLogger(\"health-chats-graph\")\n",
    "\n",
    "class State(TypedDict):\n",
    "    messages: Annotated[Sequence[BaseMessage], operator.add]\n",
    "    prompt: Annotated[Sequence[BaseMessage], operator.add]"
   ]
  },
  {
   "cell_type": "code",
   "execution_count": 29,
   "id": "d830a5a5-4448-4618-b331-96152b31d20f",
   "metadata": {},
   "outputs": [],
   "source": [
    "from langchain_anthropic import ChatAnthropic\n",
    "llm = ChatAnthropic(model='claude-3-haiku-20240307')\n",
    "\n",
    "######## PII ########\n",
    "# Patient Name\n",
    "# Phone number, email, \n",
    "# Patient ID\n",
    "# Birthdate\n",
    "# Medications or prescription\n",
    "# Policy number and insurance details\n",
    "#####################\n",
    "\n",
    "def remove_patient_name_number_email(state: State):\n",
    "    user_input = state['messages'][-1]\n",
    "\n",
    "    prompt = f\"\"\"Your task is to redact the patient's name, phone number and email from the following input. \n",
    "    You can refer to the patient as [PATIENT], phone number as [PHONE NUMBER] and email as [EMAIL]. It's really important that you redact only name, phone number and email information.\n",
    "    INPUT: {user_input}\n",
    "    \"\"\"\n",
    "    response = llm.invoke(prompt)\n",
    "    return {\"messages\": [response.content], \"prompt\": [prompt]}\n",
    "\n",
    "def remove_patient_id(state: State):\n",
    "    user_input = state['messages'][-1]\n",
    "\n",
    "    prompt = f\"\"\"Your task is to redact the patient's ID from the following input. You can refer to the patient actual id as [PATIENT ID]. \n",
    "    It's really important that you redact only the ID information.\n",
    "    INPUT: {user_input}\n",
    "    \"\"\"\n",
    "    response = llm.invoke(prompt)\n",
    "    return {\"messages\": [response.content], \"prompt\": [prompt]}\n",
    "\n",
    "def remove_patient_birthdate(state: State):\n",
    "    user_input = state['messages'][-1]\n",
    "\n",
    "    prompt = f\"\"\"Your task is to redact the patient's birthdate from the following input. You can refer to the patient's actual birthdate as [BIRTHDATE]. \n",
    "    It's really important that you redact patient's birth day information.\n",
    "    INPUT: {user_input}\n",
    "    \"\"\"\n",
    "    response = llm.invoke(prompt)\n",
    "    return {\"messages\": [response.content], \"prompt\": [prompt]}\n",
    "\n",
    "def remove_patient_medications(state: State):\n",
    "    user_input = state['messages'][-1]\n",
    "\n",
    "    prompt = f\"\"\"Your task is to redact the patient's medication from the following input. You can refer to patient's actual medication as [MEDICATIONS] and actual dosage as [DOSAGE].\n",
    "    It's really important that you redact only the medications.\n",
    "    INPUT: {user_input}\n",
    "    \"\"\"\n",
    "    response = llm.invoke(prompt)\n",
    "    return {\"messages\": [response.content], \"prompt\": [prompt]}\n",
    "\n",
    "def remove_patient_insurance(state: State):\n",
    "    user_input = state['messages'][-1]\n",
    "\n",
    "    prompt = f\"\"\"Your task is to redact the patient's policy number from the following input. You can refer to the actual policy number as [POLICY NUMBER].\n",
    "    It's really important that you redact this information.\n",
    "    INPUT: {user_input}\n",
    "    \"\"\"\n",
    "    response = llm.invoke(prompt)\n",
    "    return {\"messages\": [response.content], \"prompt\": [prompt]}\n",
    " \n",
    "def get_symptoms_and_recommendations(state: State):\n",
    "    agent_output = state['messages'][-1]\n",
    "\n",
    "    prompt = \"\"\"\n",
    "    You have a task to return a dictionary with three keys - main_reason, symptoms and recommendations. If there's nothing for these categories, simply say \"N/A\"\n",
    "\n",
    "    1. For main_reason, list the main reason for why the patient called.\n",
    "    1. For symptoms, simply write what the symptoms patient reported.\n",
    "    2. For recommendations, list two recommendations that the agent recommended. \n",
    "\n",
    "    Here's the format I'm expecting:\n",
    "    {\n",
    "        \"main_reason: [],\n",
    "        \"symptoms\": [],\n",
    "        \"recommendations\": []\n",
    "    }\n",
    "    \"\"\" + agent_output\n",
    "    \n",
    "    response = llm.invoke(prompt)\n",
    "    return {\"messages\": [response.content], \"prompt\": [prompt]}\n",
    "\n",
    "def create_a_general_summary(state: State):\n",
    "    agent_output = state['messages'][-1]\n",
    "    \n",
    "    prompt = \"\"\"\n",
    "    Given the input, create a general summary with less than 150 words.\"\"\" + agent_output\n",
    "\n",
    "    response = llm.invoke(prompt)\n",
    "    return {\"messages\": [response.content],  \"prompt\": [prompt]}\n",
    "\n",
    "def should_continue(state: State):\n",
    "    # Check if we should continue to the next step or loop over the current\n",
    "    counter = state[\"counter\"][0]\n",
    "    if counter == 3:\n",
    "        return \"extract\"\n",
    "    return \"continue\"\n",
    "\n",
    "def write_to_file(state: State):    \n",
    "    previous_responses = pd.read_excel(\"responses.xlsx\", sheet_name=\"Sheet1\")\n",
    "\n",
    "    all_prompts = {f\"prompt-{idx+1}\": prompt for idx, prompt in enumerate(state['prompt'])}\n",
    "    all_responses = {f\"response-{idx+1}\": response for idx, response in enumerate(state['messages'][1:])}\n",
    "    document = {\"document\": state['messages'][0]}\n",
    "    batch_id = {\"batch_id\": uuid.uuid1().hex}    \n",
    "    \n",
    "    updated_responses = pd.concat([\n",
    "        previous_responses,\n",
    "        pd.DataFrame([{**document, **batch_id, **all_prompts, **all_responses}])\n",
    "    ])\n",
    "    updated_responses.to_excel(\"responses.xlsx\", index=False)\n",
    "    "
   ]
  },
  {
   "cell_type": "code",
   "execution_count": 30,
   "id": "f0f9254b",
   "metadata": {},
   "outputs": [],
   "source": [
    "# remove_patient_name_number_email\n",
    "# remove_patient_id\n",
    "# remove_patient_birthdate\n",
    "# remove_patient_medications\n",
    "# remove_patient_insurance"
   ]
  },
  {
   "cell_type": "code",
   "execution_count": 31,
   "id": "654c3ed0-2bc3-49d5-b54a-c7c059bdd9f7",
   "metadata": {},
   "outputs": [],
   "source": [
    "from langgraph.graph import StateGraph, Graph, START, END\n",
    "\n",
    "workflow = StateGraph(State)\n",
    "\n",
    "workflow.add_node(\"pii_name_number_email\", remove_patient_name_number_email)\n",
    "workflow.add_node(\"pii_id\", remove_patient_id)\n",
    "workflow.add_node(\"pii_birthdate\", remove_patient_birthdate)\n",
    "workflow.add_node(\"pii_medications\", remove_patient_medications)\n",
    "workflow.add_node(\"pii_insurance\", remove_patient_insurance)\n",
    "workflow.add_node(\"extractor\", get_symptoms_and_recommendations)\n",
    "workflow.add_node(\"summarizer\", create_a_general_summary)\n",
    "workflow.add_node(\"writer\", write_to_file)\n",
    "\n",
    "workflow.add_edge(\"pii_name_number_email\", \"pii_id\")\n",
    "workflow.add_edge(\"pii_id\", \"pii_birthdate\")\n",
    "workflow.add_edge(\"pii_birthdate\", \"pii_medications\")\n",
    "workflow.add_edge(\"pii_medications\", \"pii_insurance\")\n",
    "workflow.add_edge(\"pii_insurance\", \"extractor\")\n",
    "workflow.add_edge(\"extractor\", \"summarizer\")\n",
    "workflow.add_edge(\"summarizer\", \"writer\")\n",
    "\n",
    "workflow.add_edge(START, \"pii_name_number_email\")\n",
    "workflow.add_edge(\"writer\", END)\n",
    "\n",
    "graph = workflow.compile()\n"
   ]
  },
  {
   "cell_type": "code",
   "execution_count": 32,
   "id": "03f12747-7f88-48c5-9246-587b56f98be1",
   "metadata": {},
   "outputs": [
    {
     "data": {
      "image/jpeg": "[encoded data removed]",
      "text/plain": [
       "<IPython.core.display.Image object>"
      ]
     },
     "metadata": {},
     "output_type": "display_data"
    }
   ],
   "source": [
    "from IPython.display import Image, display\n",
    "\n",
    "try:\n",
    "    display(Image(graph.get_graph().draw_mermaid_png()))\n",
    "except Exception as e:\n",
    "    print(e)\n",
    "    # This requires some extra dependencies and is optional\n",
    "    pass"
   ]
  },
  {
   "cell_type": "code",
   "execution_count": 27,
   "id": "bd5f6b1b-dae7-449d-832f-d85bb136e5bf",
   "metadata": {},
   "outputs": [],
   "source": [
    "# input_text = data.iloc[0]['text']\n",
    "\n",
    "# output = graph.invoke({\"messages\": [input_text]})\n",
    "# output"
   ]
  },
  {
   "cell_type": "markdown",
   "id": "f68c84d7-92b3-4796-8797-b581a95e87e4",
   "metadata": {},
   "source": [
    "## Process some examples"
   ]
  },
  {
   "cell_type": "code",
   "execution_count": 34,
   "id": "8de94df6-1145-440a-844e-581b5599bc48",
   "metadata": {},
   "outputs": [],
   "source": [
    "all_outputs = []\n",
    "start = 20\n",
    "end = 70\n",
    "\n",
    "for transcript in data.iloc[start:end]['text'].values:\n",
    "    output = graph.invoke({\"messages\": [transcript]})\n",
    "    all_outputs.append(output)"
   ]
  },
  {
   "cell_type": "code",
   "execution_count": null,
   "id": "ced99a27",
   "metadata": {},
   "outputs": [],
   "source": []
  }
 ],
 "metadata": {
  "kernelspec": {
   "display_name": "Python 3.11.5 ('env-llms': venv)",
   "language": "python",
   "name": "python3"
  },
  "language_info": {
   "codemirror_mode": {
    "name": "ipython",
    "version": 3
   },
   "file_extension": ".py",
   "mimetype": "text/x-python",
   "name": "python",
   "nbconvert_exporter": "python",
   "pygments_lexer": "ipython3",
   "version": "3.11.5"
  },
  "vscode": {
   "interpreter": {
    "hash": "92b4e5b8717e25e3933aae00f04e309beeeb5d7f4834db217b3ec787faffa6c2"
   }
  }
 },
 "nbformat": 4,
 "nbformat_minor": 5
}
