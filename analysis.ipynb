{
 "cells": [
  {
   "cell_type": "code",
   "execution_count": 9,
   "id": "70012629-e5e7-426d-815d-d49db0e84cb3",
   "metadata": {},
   "outputs": [],
   "source": [
    "import pandas as pd\n",
    "import matplotlib.pyplot as plt\n",
    "\n",
    "data = pd.read_excel(\"responses.xlsx\")\n",
    "data = data[~data['Remove PII'].isna()]\n",
    "\n",
    "error_columns = ['Remove PII', 'Symptoms, Reason to call, Rec', 'Summarized']"
   ]
  },
  {
   "cell_type": "code",
   "execution_count": 16,
   "id": "0bff37f8-c337-4866-96aa-f8c4067dc723",
   "metadata": {},
   "outputs": [],
   "source": [
    "data[error_columns] = data[error_columns].astype('bool')"
   ]
  },
  {
   "cell_type": "markdown",
   "id": "7d9eba8a-919c-4bbe-8ea9-d8693b004c7a",
   "metadata": {},
   "source": [
    "### Error rates for each node"
   ]
  },
  {
   "cell_type": "code",
   "execution_count": 18,
   "id": "4b111249-7f8f-4f3d-b222-d20458c691ee",
   "metadata": {},
   "outputs": [],
   "source": [
    "def error_rate_for_node(df, node_name):\n",
    "    num_rows = len(df)\n",
    "    return df[node_name].value_counts(normalize=True)\n",
    "    "
   ]
  },
  {
   "cell_type": "code",
   "execution_count": 23,
   "id": "9ce404b8-5d82-416d-830a-1d24ca5e5e6a",
   "metadata": {},
   "outputs": [
    {
     "name": "stdout",
     "output_type": "stream",
     "text": [
      "PII node error rate: Remove PII\n",
      "True     0.565217\n",
      "False    0.434783\n",
      "Name: proportion, dtype: float64\n"
     ]
    }
   ],
   "source": [
    "print(f\"PII node error rate: {error_rate_for_node(data, node_name=error_columns[0])}\")"
   ]
  },
  {
   "cell_type": "code",
   "execution_count": 32,
   "id": "c1a09554-09f9-4df3-ab88-b0aeacc71076",
   "metadata": {},
   "outputs": [
    {
     "name": "stdout",
     "output_type": "stream",
     "text": [
      "Main Reason node error rate: Symptoms, Reason to call, Rec\n",
      "True     0.724638\n",
      "False    0.275362\n",
      "Name: proportion, dtype: float64\n"
     ]
    }
   ],
   "source": [
    "print(f\"Main Reason node error rate: {error_rate_for_node(data, node_name=error_columns[1])}\")"
   ]
  },
  {
   "cell_type": "code",
   "execution_count": 31,
   "id": "d51da160-ce45-4f4d-91fb-76a959cce8ea",
   "metadata": {},
   "outputs": [
    {
     "name": "stdout",
     "output_type": "stream",
     "text": [
      "Summarizer node error rate: Summarized\n",
      "True     0.768116\n",
      "False    0.231884\n",
      "Name: proportion, dtype: float64\n"
     ]
    }
   ],
   "source": [
    "print(f\"Summarizer node error rate: {error_rate_for_node(data, node_name=error_columns[2])}\")"
   ]
  },
  {
   "cell_type": "code",
   "execution_count": null,
   "id": "e8d5530f-28d3-4cfc-89c7-003f964739f8",
   "metadata": {},
   "outputs": [],
   "source": []
  }
 ],
 "metadata": {
  "kernelspec": {
   "display_name": "validate-llms",
   "language": "python",
   "name": "validate-llms"
  },
  "language_info": {
   "codemirror_mode": {
    "name": "ipython",
    "version": 3
   },
   "file_extension": ".py",
   "mimetype": "text/x-python",
   "name": "python",
   "nbconvert_exporter": "python",
   "pygments_lexer": "ipython3",
   "version": "3.11.5"
  }
 },
 "nbformat": 4,
 "nbformat_minor": 5
}
