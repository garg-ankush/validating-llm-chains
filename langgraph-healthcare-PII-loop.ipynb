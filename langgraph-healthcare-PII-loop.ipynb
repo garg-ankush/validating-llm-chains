{
 "cells": [
  {
   "cell_type": "code",
   "execution_count": 21,
   "metadata": {},
   "outputs": [],
   "source": [
    "%%capture --no-stderr\n",
    "%pip install -U langgraph langchain_anthropic langsmith langchain\n",
    "# For the embedding-based classifier use in phase 2\n",
    "%pip install -U sklearn langchain_openai\n",
    "%pip install -U langchain-community"
   ]
  },
  {
   "cell_type": "code",
   "execution_count": 22,
   "metadata": {},
   "outputs": [],
   "source": [
    "import pandas as pd\n",
    "import numpy as np\n",
    "\n",
    "df = pd.read_parquet(\"hf://datasets/urvog/llama2_transcripts_healthcare_callcenter/data/train-00000-of-00001-643ef6d7d804c522.parquet\")\n",
    "\n",
    "data = df.head(10)"
   ]
  },
  {
   "cell_type": "code",
   "execution_count": 23,
   "metadata": {},
   "outputs": [],
   "source": [
    "import logging\n",
    "import operator\n",
    "from typing import Annotated, List, Optional, TypedDict, Sequence\n",
    "from langchain_core.messages import BaseMessage\n",
    "\n",
    "logging.basicConfig(level=logging.WARNING)\n",
    "logger = logging.getLogger(\"health-chats\")\n",
    "\n",
    "class State(TypedDict):\n",
    "    messages: Annotated[Sequence[BaseMessage], operator.add]\n",
    "    prompt: Annotated[Sequence[BaseMessage], operator.add]\n",
    "    pii_counter: int"
   ]
  },
  {
   "cell_type": "code",
   "execution_count": 35,
   "metadata": {},
   "outputs": [],
   "source": [
    "def remove_PII_information(state: State):\n",
    "    user_input = state['messages'][-1]\n",
    "    prompt_1 = \"Remove PII for me\"\n",
    "    prompt_2 = \"This is the second prompt\"\n",
    "    \n",
    "    if state['pii_counter'] is None:\n",
    "        pii_counter = 0\n",
    "        # Make the call here to the LLM using Prompt 1.\n",
    "        return {\"messages\": [\"PII returned\"], \"prompt\": [prompt_2], \"pii_counter\": [pii_counter]}\n",
    "        \n",
    "    # This just says that PII node has been called N times\n",
    "    pii_counter = int(state[\"pii_counter\"][0]) + 1\n",
    "    # Make the call here using prompt 2 to self correct.\n",
    "    return {\"messages\": [\"PII returned\"], \"prompt\": [prompt_2], \"pii_counter\": [pii_counter]}\n",
    "\n",
    "\n",
    "def should_continue(state: State):\n",
    "    # Check if the thing ran, if so end, otherwise re run\n",
    "    counter = int(state['pii_counter'][0])\n",
    "    print(state)\n",
    "    \n",
    "    if counter == 3:\n",
    "        return \"writer\"\n",
    "    return \"continue\"\n",
    "\n",
    "def writer(state: State):\n",
    "    print(\"ending this shit\")\n",
    "\n",
    "from langgraph.graph import StateGraph, Graph, START, END\n",
    "\n",
    "workflow = StateGraph(State)\n",
    "\n",
    "workflow.add_node(\"pii_agent\", remove_PII_information)\n",
    "workflow.add_node(\"writer_agent\", writer)\n",
    "# workflow.add_edge(\"pii_agent\", \"writer_agent\")\n",
    "workflow.add_edge(START, \"pii_agent\")\n",
    "workflow.add_edge(\"writer_agent\", END)\n",
    "\n",
    "workflow.add_conditional_edges(\n",
    "    \"pii_agent\",\n",
    "    should_continue,\n",
    "    {\n",
    "        \"continue\": \"pii_agent\",\n",
    "        \"writer\" : \"writer_agent\"\n",
    "    }\n",
    ")\n",
    "\n",
    "graph = workflow.compile()"
   ]
  },
  {
   "cell_type": "code",
   "execution_count": 36,
   "metadata": {},
   "outputs": [
    {
     "data": {
      "image/jpeg": "[encoded data removed]",
      "text/plain": [
       "<IPython.core.display.Image object>"
      ]
     },
     "metadata": {},
     "output_type": "display_data"
    }
   ],
   "source": [
    "from IPython.display import Image, display\n",
    "\n",
    "try:\n",
    "    display(Image(graph.get_graph().draw_mermaid_png()))\n",
    "except Exception as e:\n",
    "    print(e)\n",
    "    # This requires some extra dependencies and is optional\n",
    "    pass"
   ]
  },
  {
   "cell_type": "code",
   "execution_count": 37,
   "metadata": {},
   "outputs": [
    {
     "name": "stdout",
     "output_type": "stream",
     "text": [
      "{'messages': ['testing', 'PII returned'], 'prompt': ['This is the second prompt'], 'pii_counter': [0]}\n",
      "{'messages': ['testing', 'PII returned', 'PII returned'], 'prompt': ['This is the second prompt', 'This is the second prompt'], 'pii_counter': [1]}\n",
      "{'messages': ['testing', 'PII returned', 'PII returned', 'PII returned'], 'prompt': ['This is the second prompt', 'This is the second prompt', 'This is the second prompt'], 'pii_counter': [2]}\n",
      "{'messages': ['testing', 'PII returned', 'PII returned', 'PII returned', 'PII returned'], 'prompt': ['This is the second prompt', 'This is the second prompt', 'This is the second prompt', 'This is the second prompt'], 'pii_counter': [3]}\n",
      "ending this shit\n"
     ]
    }
   ],
   "source": [
    "input_text = \"testing\"\n",
    "\n",
    "output = graph.invoke({\"messages\": [input_text]})"
   ]
  },
  {
   "cell_type": "code",
   "execution_count": null,
   "metadata": {},
   "outputs": [],
   "source": []
  }
 ],
 "metadata": {
  "kernelspec": {
   "display_name": "Python 3.11.5 64-bit ('3.11.5')",
   "language": "python",
   "name": "python3"
  },
  "language_info": {
   "codemirror_mode": {
    "name": "ipython",
    "version": 3
   },
   "file_extension": ".py",
   "mimetype": "text/x-python",
   "name": "python",
   "nbconvert_exporter": "python",
   "pygments_lexer": "ipython3",
   "version": "3.11.5"
  },
  "orig_nbformat": 4,
  "vscode": {
   "interpreter": {
    "hash": "4c330309be03dca3383f78906d919865912d71da06e0b175b0ab423dfe8cadfb"
   }
  }
 },
 "nbformat": 4,
 "nbformat_minor": 2
}
