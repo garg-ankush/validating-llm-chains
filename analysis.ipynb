{
 "cells": [
  {
   "cell_type": "code",
   "execution_count": 9,
   "id": "70012629-e5e7-426d-815d-d49db0e84cb3",
   "metadata": {},
   "outputs": [],
   "source": [
    "import pandas as pd\n",
    "import matplotlib.pyplot as plt\n",
    "\n",
    "data = pd.read_excel(\"responses.xlsx\")\n",
    "data = data[~data['Remove PII'].isna()]\n",
    "\n",
    "error_columns = ['Remove PII', 'Symptoms, Reason to call, Rec', 'Summarized']"
   ]
  },
  {
   "cell_type": "code",
   "execution_count": 16,
   "id": "0bff37f8-c337-4866-96aa-f8c4067dc723",
   "metadata": {},
   "outputs": [],
   "source": [
    "data[error_columns] = data[error_columns].astype('bool')"
   ]
  },
  {
   "cell_type": "markdown",
   "id": "7d9eba8a-919c-4bbe-8ea9-d8693b004c7a",
   "metadata": {},
   "source": [
    "### Error rates for each node"
   ]
  },
  {
   "cell_type": "code",
   "execution_count": 18,
   "id": "4b111249-7f8f-4f3d-b222-d20458c691ee",
   "metadata": {},
   "outputs": [],
   "source": [
    "def error_rate_for_node(df, node_name):\n",
    "    num_rows = len(df)\n",
    "    return df[node_name].value_counts(normalize=True)\n",
    "    "
   ]
  },
  {
   "cell_type": "code",
   "execution_count": 23,
   "id": "9ce404b8-5d82-416d-830a-1d24ca5e5e6a",
   "metadata": {},
   "outputs": [
    {
     "name": "stdout",
     "output_type": "stream",
     "text": [
      "PII node error rate: Remove PII\n",
      "True     0.565217\n",
      "False    0.434783\n",
      "Name: proportion, dtype: float64\n"
     ]
    }
   ],
   "source": [
    "print(f\"PII node error rate: {error_rate_for_node(data, node_name=error_columns[0])}\")"
   ]
  },
  {
   "cell_type": "markdown",
   "id": "25238dd6-5936-47d6-aaf9-9b45abee496e",
   "metadata": {},
   "source": [
    "#### 43% of the data had PII information. This is a problematic node."
   ]
  },
  {
   "cell_type": "code",
   "execution_count": 32,
   "id": "c1a09554-09f9-4df3-ab88-b0aeacc71076",
   "metadata": {},
   "outputs": [
    {
     "name": "stdout",
     "output_type": "stream",
     "text": [
      "Main Reason node error rate: Symptoms, Reason to call, Rec\n",
      "True     0.724638\n",
      "False    0.275362\n",
      "Name: proportion, dtype: float64\n"
     ]
    }
   ],
   "source": [
    "print(f\"Main Reason node error rate: {error_rate_for_node(data, node_name=error_columns[1])}\")"
   ]
  },
  {
   "cell_type": "code",
   "execution_count": 31,
   "id": "d51da160-ce45-4f4d-91fb-76a959cce8ea",
   "metadata": {},
   "outputs": [
    {
     "name": "stdout",
     "output_type": "stream",
     "text": [
      "Summarizer node error rate: Summarized\n",
      "True     0.768116\n",
      "False    0.231884\n",
      "Name: proportion, dtype: float64\n"
     ]
    }
   ],
   "source": [
    "print(f\"Summarizer node error rate: {error_rate_for_node(data, node_name=error_columns[2])}\")"
   ]
  },
  {
   "cell_type": "code",
   "execution_count": 45,
   "id": "736b2c32-a9f8-4f10-bc24-5336cbbdcdec",
   "metadata": {},
   "outputs": [],
   "source": [
    "data['all_three_correct'] = data[error_columns[0]] | data[error_columns[1]] | data[error_columns[2]] \n",
    "\n",
    "data['node_2_and_3_incorrect'] = data[error_columns[1]] | data[error_columns[2]]"
   ]
  },
  {
   "cell_type": "code",
   "execution_count": 44,
   "id": "fc9731a0-9f02-4364-9977-856ccac149eb",
   "metadata": {},
   "outputs": [
    {
     "data": {
      "text/plain": [
       "all_three_correct\n",
       "True     0.826087\n",
       "False    0.173913\n",
       "Name: proportion, dtype: float64"
      ]
     },
     "execution_count": 44,
     "metadata": {},
     "output_type": "execute_result"
    }
   ],
   "source": [
    "data['all_three_correct'].value_counts(normalize=True)"
   ]
  },
  {
   "cell_type": "markdown",
   "id": "3dd1dec0-1408-49d7-a6dd-d79694ccddcf",
   "metadata": {},
   "source": [
    "#### Seems like 17% of the time all three of the nodes breakdown. That could be because PII leaked through the chain, or that the symptoms or main reason for the call was off in addition to PII."
   ]
  },
  {
   "cell_type": "code",
   "execution_count": 46,
   "id": "a5440ff1-fbc2-4dfd-8fa4-ece089330b54",
   "metadata": {},
   "outputs": [
    {
     "data": {
      "text/plain": [
       "node_2_and_3_incorrect\n",
       "True     0.782609\n",
       "False    0.217391\n",
       "Name: proportion, dtype: float64"
      ]
     },
     "execution_count": 46,
     "metadata": {},
     "output_type": "execute_result"
    }
   ],
   "source": [
    "data['node_2_and_3_incorrect'].value_counts(normalize=True)"
   ]
  },
  {
   "cell_type": "markdown",
   "id": "f6020260-3d9b-4a20-a575-96382cf17fb0",
   "metadata": {},
   "source": [
    "#### Node 2 and 3 are certainly linked and their errors move together"
   ]
  },
  {
   "cell_type": "code",
   "execution_count": 60,
   "id": "070de7a8-3526-4324-ae0d-90e10fad3729",
   "metadata": {},
   "outputs": [
    {
     "data": {
      "text/plain": [
       "4      PII and main reason. As a result summary is off.\n",
       "5               PII leaked into recs through the chain \n",
       "9      PII and main reason. As a result summary is off.\n",
       "12    PII and main reason. Summary also doesn't capt...\n",
       "19              PII leaked into recs through the chain \n",
       "33     PII and main reason. As a result summary is off.\n",
       "35    PII and main reason. Summary also doesn't capt...\n",
       "36    PII and main reason. Summary also doesn't capt...\n",
       "45               PII, \"some symptoms\", summary off too \n",
       "47                                                  NaN\n",
       "49              PII leaked into recs through the chain \n",
       "53              PII leaked into recs through the chain \n",
       "55    Main reason for the call leaked through to the...\n",
       "60     PII and main reason. As a result summary is off.\n",
       "68    Main reason for the call leaked through to the...\n",
       "Name: Notes, dtype: object"
      ]
     },
     "execution_count": 60,
     "metadata": {},
     "output_type": "execute_result"
    }
   ],
   "source": [
    "data[data['node_2_and_3_incorrect'] == False]['Notes']"
   ]
  },
  {
   "cell_type": "markdown",
   "id": "38a58978-aaa0-40f9-95d3-025c712852e6",
   "metadata": {},
   "source": [
    "#### Seems like there are instances where PII leaks through the entire chain. But more commonly if the main reason is wrong, the summary is wrong."
   ]
  }
 ],
 "metadata": {
  "kernelspec": {
   "display_name": "validate-llms",
   "language": "python",
   "name": "validate-llms"
  },
  "language_info": {
   "codemirror_mode": {
    "name": "ipython",
    "version": 3
   },
   "file_extension": ".py",
   "mimetype": "text/x-python",
   "name": "python",
   "nbconvert_exporter": "python",
   "pygments_lexer": "ipython3",
   "version": "3.11.5"
  }
 },
 "nbformat": 4,
 "nbformat_minor": 5
}
