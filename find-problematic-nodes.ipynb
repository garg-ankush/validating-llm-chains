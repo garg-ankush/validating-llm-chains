{
 "cells": [
  {
   "cell_type": "code",
   "execution_count": 113,
   "id": "70012629-e5e7-426d-815d-d49db0e84cb3",
   "metadata": {},
   "outputs": [],
   "source": [
    "import pandas as pd\n",
    "import matplotlib.pyplot as plt\n",
    "\n",
    "data = pd.read_excel(\"responses.xlsx\")\n",
    "data = data[~data['Remove PII'].isna()]\n",
    "\n",
    "data = data.rename(columns={\"Remove PII\": \"remove_pii\", \"Symptoms, Reason to call, Rec\": \"get_symptoms\", \"Summarized\": \"summary\"})\n",
    "error_columns = ['remove_pii', 'get_symptoms', 'summary']"
   ]
  },
  {
   "cell_type": "code",
   "execution_count": 114,
   "id": "0bff37f8-c337-4866-96aa-f8c4067dc723",
   "metadata": {},
   "outputs": [],
   "source": [
    "data[error_columns] = data[error_columns].astype('bool')\n",
    "\n",
    "data[error_columns].head()\n",
    "\n",
    "data['no_errors'] = data[error_columns].all(axis=1)"
   ]
  },
  {
   "cell_type": "code",
   "execution_count": 115,
   "id": "a35f4d98-f713-47aa-b75f-1afdc2c22ace",
   "metadata": {},
   "outputs": [],
   "source": [
    "class Node:\n",
    "    def __init__(self, name):\n",
    "        self.name = name\n",
    "        self.parents = []\n",
    "\n",
    "    def add_parent(self, parent):\n",
    "        self.parents.append(parent)\n",
    "    \n",
    "def create_graph():\n",
    "    nodes = {\n",
    "        \"remove_pii\": Node(\"remove_pii\"),\n",
    "        \"get_symptoms\": Node(\"get_symptoms\"),\n",
    "        \"summary\": Node(\"summary\")\n",
    "    }\n",
    "    nodes['get_symptoms'].add_parent(nodes['remove_pii'])\n",
    "    nodes['summary'].add_parent(nodes['get_symptoms'])\n",
    "\n",
    "    return nodes"
   ]
  },
  {
   "cell_type": "code",
   "execution_count": 116,
   "id": "504dbd8d-49cb-4c85-84d5-88f110df6a58",
   "metadata": {},
   "outputs": [],
   "source": [
    "graph = create_graph()"
   ]
  },
  {
   "cell_type": "code",
   "execution_count": 235,
   "id": "b5288e32-3e5b-4990-a148-8443e87e7200",
   "metadata": {},
   "outputs": [
    {
     "name": "stdout",
     "output_type": "stream",
     "text": [
      "{\n",
      "    \"summary\": {\n",
      "        \"prob_of_node_failing_with_parent_failing\": 0.789474,\n",
      "        \"Prob_of_node_failing_with_parent_passing\": 0.02,\n",
      "        \"Problem\": \"parent\"\n",
      "    },\n",
      "    \"get_symptoms\": {\n",
      "        \"prob_of_node_failing_with_parent_failing\": 0.4,\n",
      "        \"Prob_of_node_failing_with_parent_passing\": 0.179487,\n",
      "        \"Problem\": \"parent\"\n",
      "    }\n",
      "}\n"
     ]
    }
   ],
   "source": [
    "import json\n",
    "# Run the calculation\n",
    "probabilities = {}\n",
    "\n",
    "for node_name, node in reversed(graph.items()):\n",
    "    # Skip nodes with no parents\n",
    "    if not node.parents:\n",
    "        continue\n",
    "        \n",
    "    parent = node.parents[0].name\n",
    "    \n",
    "    # Calculate overall probabilities\n",
    "    prob_that_parent_fails = len(data[data[parent] == False]) / len(data)\n",
    "    prob_that_parent_passes = len(data[data[parent] == True]) / len(data)\n",
    "    \n",
    "    # Calculate conditional probabilities\n",
    "    prob_node_fails_given_parent_fails = len(data[(data[node_name] == False) & (data[parent] == False)]) / len(data[data[parent] == False])\n",
    "    prob_node_fails_given_parent_passes = len(data[(data[node_name] == False) & (data[parent] == True)]) / len(data[data[parent] == True])\n",
    "    \n",
    "    # Calculate overall impact\n",
    "    probability_node_fails_if_parent_failing = prob_node_fails_given_parent_fails\n",
    "    probability_node_fails_if_parent_passing = prob_node_fails_given_parent_passes\n",
    "\n",
    "    # Store the probabilities\n",
    "    probabilities[node_name] = {\n",
    "        # f\"P({node_name} fails | {parent} fails)\": round(prob_node_fails_given_parent_fails, 6),\n",
    "        # f\"P({node_name} fails | {parent} passes)\": round(prob_node_fails_given_parent_passes, 6),\n",
    "        \"prob_of_node_failing_with_parent_failing\": round(probability_node_fails_if_parent_failing, 6),\n",
    "        \"Prob_of_node_failing_with_parent_passing\": round(probability_node_fails_if_parent_passing, 6),\n",
    "        # Check whether the node fails more because of failing parent or passing parent. \n",
    "        # With that calculated, write the problem as the node itself or the parent\n",
    "        \"Problem\": f\"{'self' if probability_node_fails_if_parent_passing > probability_node_fails_if_parent_failing else 'parent'}\"\n",
    "    }\n",
    "\n",
    "print(json.dumps(probabilities, indent=4))\n"
   ]
  },
  {
   "cell_type": "markdown",
   "id": "721fb6e2-d54e-4ad9-af28-8b7e2ac8f3dc",
   "metadata": {},
   "source": [
    "## Algorithm"
   ]
  },
  {
   "cell_type": "code",
   "execution_count": 236,
   "id": "d4f110ef-f293-43c6-891a-e8f57dded91c",
   "metadata": {},
   "outputs": [
    {
     "name": "stdout",
     "output_type": "stream",
     "text": [
      "Node: summary\n",
      "dependencies: ['get_symptoms']\n",
      "0.8094736842105263\n",
      "----------------------------------------------------------------------------------------------------\n",
      "Node: get_symptoms\n",
      "dependencies: ['remove_pii']\n",
      "0.5794871794871795\n",
      "----------------------------------------------------------------------------------------------------\n",
      "Node: remove_pii\n",
      "dependencies: []\n",
      "Focus on node: remove_pii\n"
     ]
    }
   ],
   "source": [
    "def calculate_probabilities(node, data, dependency):    \n",
    "    prob_that_parent_fails = (data[dependency.name] == False).sum() / len(data)\n",
    "    prob_that_parent_passes = (data[dependency.name] == True).sum() / len(data)\n",
    "    \n",
    "    # Calculate conditional probabilities\n",
    "    prob_node_fails_given_parent_fails = (data[(data[node] == False) & (data[dependency.name] == False)].shape[0]) / (data[dependency.name] == False).sum()\n",
    "    prob_node_fails_given_parent_passes = (data[(data[node] == False) & (data[dependency.name] == True)].shape[0]) / (data[dependency.name] == True).sum()\n",
    "    \n",
    "    return prob_node_fails_given_parent_fails, prob_node_fails_given_parent_passes\n",
    "\n",
    "def calculate_impact(node, data, dependencies):\n",
    "    impacts = {}\n",
    "    \n",
    "    for dep in dependencies:\n",
    "        prob_node_fails_given_dep_fails, prob_node_fails_given_dep_passes = calculate_probabilities(node, data, dep)\n",
    "        impacts[dep.name] = round(prob_node_fails_given_dep_fails - prob_node_fails_given_dep_passes, 6)\n",
    "\n",
    "    # Calculate overall probabilities for the node itself\n",
    "    prob_any_dep_fails = (data[[i.name for i in dependencies]].any(axis=1) == False).sum() / len(data)\n",
    "    prob_no_dep_fails = (data[[i.name for i in dependencies]].all(axis=1) == True).sum() / len(data)\n",
    "    \n",
    "    # Calculate conditional probabilities for the node itself\n",
    "    prob_node_fails_given_any_dep_fails = (data[(data[node] == False) & (data[[i.name for i in dependencies]].any(axis=1) == False)].shape[0]) / (data[[i.name for i in dependencies]].any(axis=1) == False).sum()\n",
    "    prob_node_fails_given_no_dep_fails = (data[(data[node] == False) & (data[[i.name for i in dependencies]].all(axis=1) == True)].shape[0]) / (data[[i.name for i in dependencies]].all(axis=1) == True).sum()\n",
    "    \n",
    "    # Compute the impact of the node itself\n",
    "    impact_node = (prob_node_fails_given_any_dep_fails) - (prob_node_fails_given_no_dep_fails)\n",
    "    impacts[node] = round(impact_node, 6)\n",
    "    \n",
    "    return impacts\n",
    "\n",
    "def improve_system(node: str, data, graph):\n",
    "    dependencies = [parent for parent in graph[node].parents]\n",
    "\n",
    "    print(f\"Node: {node}\")\n",
    "    print(f\"dependencies: {[i.name for i in dependencies]}\")\n",
    "    \n",
    "    if not dependencies:\n",
    "        return node  # No dependencies, focus on improving the node itself\n",
    "    \n",
    "    impacts = calculate_impact(node, data, dependencies)\n",
    "\n",
    "    if len(dependencies) == 1:\n",
    "        D_max = dependencies[0]\n",
    "    else:\n",
    "        D_max = max(impacts, key=impacts.get)\n",
    "    \n",
    "    if impacts[node] > impacts[D_max.name]:\n",
    "        return node, impacts[node]  # Focus on improving the node itself\n",
    "    \n",
    "    print(\"-\"*100)\n",
    "    return improve_system(node=D_max.name, data=data, graph=graph)\n",
    "\n",
    "print(f\"Focus on node: {improve_system(node='summary', data=data, graph=graph)}\")\n"
   ]
  },
  {
   "cell_type": "code",
   "execution_count": null,
   "id": "f59aa6dc",
   "metadata": {},
   "outputs": [],
   "source": []
  }
 ],
 "metadata": {
  "kernelspec": {
   "display_name": "validate-llms",
   "language": "python",
   "name": "validate-llms"
  },
  "language_info": {
   "codemirror_mode": {
    "name": "ipython",
    "version": 3
   },
   "file_extension": ".py",
   "mimetype": "text/x-python",
   "name": "python",
   "nbconvert_exporter": "python",
   "pygments_lexer": "ipython3",
   "version": "3.11.5"
  }
 },
 "nbformat": 4,
 "nbformat_minor": 5
}
