{
 "cells": [
  {
   "cell_type": "code",
   "execution_count": 3,
   "id": "3d20010a",
   "metadata": {},
   "outputs": [],
   "source": [
    "import json\n",
    "import pandas as pd\n",
    "from datasets import load_dataset\n",
    "import getpass\n",
    "import os\n",
    "import time\n",
    "\n",
    "import requests\n",
    "from tavily import TavilyClient\n"
   ]
  },
  {
   "cell_type": "code",
   "execution_count": 4,
   "id": "e635f77d",
   "metadata": {},
   "outputs": [],
   "source": [
    "with open(\"/Users/ankushgarg/Downloads/climate_comments.json\", 'r') as json_file:\n",
    "    json_data = json.load(json_file)\n"
   ]
  },
  {
   "cell_type": "code",
   "execution_count": 5,
   "id": "f3695a95",
   "metadata": {},
   "outputs": [],
   "source": [
    "def _set_env(var: str):\n",
    "    if not os.environ.get(var):\n",
    "        os.environ[var] = getpass.getpass(f\"{var}: \")\n",
    "\n",
    "_set_env(\"ANTHROPIC_API_KEY\")"
   ]
  },
  {
   "cell_type": "code",
   "execution_count": 6,
   "id": "10aac181",
   "metadata": {},
   "outputs": [],
   "source": [
    "_set_env(\"TAVILY_API_KEY\")"
   ]
  },
  {
   "cell_type": "code",
   "execution_count": 7,
   "id": "d3bab1e6",
   "metadata": {},
   "outputs": [],
   "source": [
    "import logging\n",
    "import operator\n",
    "from typing import Annotated, List, Optional, TypedDict, Sequence\n",
    "from langchain_core.messages import BaseMessage\n",
    "\n",
    "logging.basicConfig(level=logging.WARNING)\n",
    "logger = logging.getLogger(\"reddit-comments\")\n",
    "\n",
    "class State(TypedDict):\n",
    "    prompts: Annotated[Sequence[BaseMessage], operator.add]\n",
    "    input: Annotated[Sequence[BaseMessage], operator.add]\n",
    "    replies: Annotated[Sequence[BaseMessage], operator.add]\n",
    "    keywords: Annotated[Sequence[BaseMessage], operator.add]\n",
    "    article_search: Annotated[Sequence[BaseMessage], operator.add]\n",
    "    comment_summaries: Annotated[Sequence[BaseMessage], operator.add]\n",
    "    generated_reply: Annotated[Sequence[BaseMessage], operator.add]\n"
   ]
  },
  {
   "cell_type": "code",
   "execution_count": 8,
   "id": "d4afe99f",
   "metadata": {},
   "outputs": [],
   "source": [
    "from langchain_anthropic import ChatAnthropic\n",
    "llm = ChatAnthropic(model='claude-3-haiku-20240307')"
   ]
  },
  {
   "cell_type": "code",
   "execution_count": 19,
   "id": "1c565ff4",
   "metadata": {},
   "outputs": [],
   "source": [
    "def extract_keywords_from_title(state: State):\n",
    "    input = state[\"input\"][-1]\n",
    "    \n",
    "    prompt = f\"\"\"Extract two most important keywords from the input. Please return them as a Python list of strings. Don't include any preamble, just the keywords in your response.\n",
    "    input: {input}\n",
    "    \"\"\" # We extracted two keywords from the title\n",
    "\n",
    "    response = llm.invoke(prompt)\n",
    "    return {\"keywords\":[response.content], \"prompts\": [prompt]}\n",
    "\n",
    "def tool_search(state: State):\n",
    "    keywords = state[\"keywords\"][-1]\n",
    "    prompt = f\"Based on these keywords: {keywords}, please search for an article on the web.\"\n",
    "        \n",
    "    tavily_client = TavilyClient(api_key=os.getenv(\"TAVILY_API_KEY\"))\n",
    "    response = tavily_client.search(prompt, max_results=1, include_raw_content=True)\n",
    "\n",
    "    results = {\n",
    "        \"url\": response['results'][0]['url'],\n",
    "        \"content\": response['results'][0]['raw_content']\n",
    "        }\n",
    "\n",
    "    return {\"article_search\": [results], \"prompts\": [prompt]}\n",
    "\n",
    "\n",
    "def summarize_tone_sentiment_of_replies(state: State):\n",
    "    content = state[\"replies\"]\n",
    "\n",
    "    prompt = f\"\"\"Your goal is to extract a tone (single), sentiment (single) and summary (less than 100 words) the main point the comments are making. Analyze and output in JSON format with keys: \"tone\" (tone), \"sentiment\" (positive or negative), \"summary\" (main point the replies are making).\n",
    "    input: {content}\n",
    "    \"\"\"\n",
    "    response = llm.invoke(prompt)\n",
    "    return {\"comment_summaries\":[response.content], \"prompts\": [prompt]}\n",
    "\n",
    "def generate_reply(state: State):\n",
    "    url = \"\"\n",
    "    content = \"\"\n",
    "    tone = \"\"\n",
    "    sentiment = \"\"\n",
    "    summary = \"\"\n",
    "\n",
    "    try: \n",
    "        article_search = state.get(\"article_search\")[0]\n",
    "        url = article_search['url']\n",
    "        content = article_search['content']\n",
    "    except Exception as e:\n",
    "        print(e)\n",
    "        \n",
    "    try:\n",
    "        comment_summaries = json.loads(state.get(\"comment_summaries\")[0])\n",
    "        tone = comment_summaries['tone']\n",
    "        sentiment = comment_summaries['sentiment']\n",
    "        summary = comment_summaries['summary']\n",
    "        \n",
    "    except Exception as e:\n",
    "        print(e)\n",
    "\n",
    "    prompt = f\"\"\"Your job is to write a reddit reply (in less than 100 words) in {tone} tone to some other comments summarized here - {summary}.\n",
    "    Even though you're replying to the other comments, your reply must contain content from this article - {content} and sound original. Make sure to include the link to the url {url} in the reply itself. \n",
    "    Special instructions: No need to include a heading or any preamble, just report the comment.\n",
    "\"\"\"\n",
    "    response = llm.invoke(prompt)\n",
    "    return {\"generated_reply\":[response.content], \"prompts\": [prompt]}\n"
   ]
  },
  {
   "cell_type": "code",
   "execution_count": 20,
   "id": "affbb984",
   "metadata": {},
   "outputs": [],
   "source": [
    "from langgraph.graph import StateGraph, Graph, START, END\n",
    "\n",
    "workflow = StateGraph(State)\n",
    "\n",
    "workflow.add_node(\"extract_keywords_from_title\", extract_keywords_from_title)\n",
    "workflow.add_node(\"tool_search\", tool_search)\n",
    "workflow.add_node(\"summarize_tone_sentiment_of_replies\", summarize_tone_sentiment_of_replies)\n",
    "workflow.add_node(\"generate_reply\", generate_reply)\n",
    "\n",
    "workflow.add_edge(START, \"extract_keywords_from_title\")\n",
    "\n",
    "workflow.add_edge(\"extract_keywords_from_title\", \"tool_search\")\n",
    "workflow.add_edge(\"tool_search\", \"summarize_tone_sentiment_of_replies\")\n",
    "workflow.add_edge(\"summarize_tone_sentiment_of_replies\", \"generate_reply\")\n",
    "workflow.add_edge(\"generate_reply\", END)\n",
    "\n",
    "graph = workflow.compile()"
   ]
  },
  {
   "cell_type": "code",
   "execution_count": 21,
   "id": "1f53da55",
   "metadata": {},
   "outputs": [
    {
     "data": {
      "image/jpeg": "[encoded data removed]",
      "text/plain": [
       "<IPython.core.display.Image object>"
      ]
     },
     "metadata": {},
     "output_type": "display_data"
    }
   ],
   "source": [
    "from IPython.display import Image, display\n",
    "\n",
    "try:\n",
    "    display(Image(graph.get_graph().draw_mermaid_png()))\n",
    "except Exception as e:\n",
    "    print(e)\n",
    "    # This requires some extra dependencies and is optional\n",
    "    pass"
   ]
  },
  {
   "cell_type": "code",
   "execution_count": 22,
   "id": "0273c35b",
   "metadata": {},
   "outputs": [],
   "source": [
    "def write_to_file(response, post_id_):\n",
    "    previous_responses = pd.read_excel(\"reddit-comments-eval.xlsx\", sheet_name=\"Sheet1\")\n",
    "\n",
    "    try:\n",
    "        post_id = {f\"post_id\": post_id_}\n",
    "        prompts = {f\"prompt-{idx+1}\": r for idx, r in enumerate(response['prompts'])}\n",
    "        input = {f\"input-post\": r for _, r in enumerate(response['input'])}\n",
    "        replies = {f\"input-replies\": [r for idx, r in enumerate(response['replies'])]}\n",
    "        keywords = {f\"output-keywords\": response[\"keywords\"]}\n",
    "        article_search = {f\"output-article_search\" : response['article_search']}\n",
    "        output_replies = {f\"output-replies\": json.loads(response['comment_summaries'][0])}\n",
    "        reply = {f\"output-reply\": response[\"generated_reply\"]}\n",
    "\n",
    "        response_df = pd.DataFrame([{\n",
    "            **post_id,\n",
    "            **prompts, \n",
    "            **input, \n",
    "            **replies, \n",
    "            **keywords,\n",
    "            **article_search,\n",
    "            **output_replies,\n",
    "            **reply\n",
    "            }]) \n",
    "        \n",
    "        updated_responses = pd.concat([previous_responses, response_df])\n",
    "        updated_responses.to_excel(\"reddit-comments-eval.xlsx\", sheet_name=\"Sheet1\", index=False)\n",
    "\n",
    "    except Exception as e:\n",
    "        print(f\"Got an error in {post_id}. Error: {e}\")\n",
    "        error_dataframe = pd.DataFrame({\"error\": [e], 'post_id': [post_id_]})        \n",
    "        updated_responses = pd.concat([previous_responses, error_dataframe])\n",
    "        updated_responses.to_excel(\"reddit-comments-eval.xlsx\", sheet_name=\"Sheet1\", index=False)\n"
   ]
  },
  {
   "cell_type": "code",
   "execution_count": 27,
   "id": "4db37be4",
   "metadata": {},
   "outputs": [
    {
     "name": "stdout",
     "output_type": "stream",
     "text": [
      "Expecting ',' delimiter: line 4 column 54 (char 104)\n"
     ]
    }
   ],
   "source": [
    "start = 21\n",
    "end = 40\n",
    "\n",
    "responses = {}\n",
    "for post in json_data['Posts'][start:end]:\n",
    "    post_id = post['PostID']\n",
    "    post_title = [post['PostTitle']]\n",
    "    comments = [i['CommentBody'] for i in post['Comments']]\n",
    "    \n",
    "    response = graph.invoke({\n",
    "        \"input\": post_title,\n",
    "        \"replies\": comments\n",
    "        })\n",
    "    responses[str(post_id)] = response\n",
    "\n"
   ]
  },
  {
   "cell_type": "code",
   "execution_count": 28,
   "id": "bee9a14a",
   "metadata": {},
   "outputs": [
    {
     "name": "stdout",
     "output_type": "stream",
     "text": [
      "Got an error in {'post_id': 'wiciv8'}. Error: Expecting ',' delimiter: line 4 column 54 (char 104)\n"
     ]
    }
   ],
   "source": [
    "for post_id, response in responses.items():\n",
    "    write_to_file(response=response, post_id_=post_id)"
   ]
  },
  {
   "cell_type": "code",
   "execution_count": 69,
   "id": "015fd7aa",
   "metadata": {},
   "outputs": [
    {
     "data": {
      "text/plain": [
       "{'url': 'https://ahrefs.com/blog/keyword-research/',\n",
       " 'content': \"How to Do Keyword Research for\\xa0SEO\\nThe number of websites linking to this post.\\nThis post's estimated monthly organic search traffic.\\nThat’s why mastering the art of keyword research is so important for your success in SEO. The cost of making a mistake is just too high. Pick the wrong keywords, and you risk wasting lots of your time and resources.\\nAnd I don’t mean to intimidate you. Keyword research is not rocket science. In fact, you’re about to learn most of it in just about 20 minutes. But there are quite a few important caveats and misconceptions that you need to be aware of in order to make better SEO decisions.\\nSo let’s dive right\\xa0in.\\nKeyword research basics\\nKeyword research basics\\nIf you’re new to SEO, you’re probably wondering what keyword research even is and why it is so important. Well, this short chapter is for you. Otherwise, just skip to the next\\xa0one.\\nWhat is keyword research?\\nKeyword research is the process of discovering valuable search queries that your target customers type into search engines like Google to look for products, services, and information.\\nWhy is keyword research important?\\nIf you publish a page on a topic that no one is searching for, that article won’t receive any traffic from Google (or other search engines).\\nMany website owners make that mistake, and it’s part of the reason why 90.63% of pages on the internet get no traffic from Google, according to our study.\\nKeyword research helps you ensure that there is a search demand for whatever you want to write about. Thus, if your page ends up ranking well in Google for its target keyword, you’ll be enjoying a consistent stream of highly targeted visitors to\\xa0it.\\nHow to find keyword ideas\\nHow to find keyword ideas\\nKeyword research starts from putting yourself in the shoes of your customers. What words and phrases might they use to find solutions to their problems? Plug these into a keyword research tool like Ahrefs’ Keywords Explorer, and you’ll find thousands more relevant keyword ideas on top of what you just brainstormed.\\nIt’s a simple process, but you need two things to do it\\xa0well:\\nThat’s what this chapter is all\\xa0about.\\n1. Brainstorm “seed” keywords\\nSeed keywords are the starting point of your keyword research process. They define your niche and help you identify your competitors. Every keyword research tool asks for a seed keyword, which it then uses to generate a huge list of keyword ideas (more on that shortly).\\nIf you already have a product or business that you want to promote online, coming up with seed keywords is easy. Just think about what people type into Google to find what you\\xa0offer.\\nFor example, if you sell coffee and coffee-making equipment, then your seed keywords might\\xa0be:\\nNote that seed keywords themselves won’t necessarily be worth targeting with pages on your website. As the name suggests, you’ll use them as “seeds” for the next steps in this process. So don’t obsess too much over your seed keywords. It should only take a few minutes to pinpoint them. As soon as you have a handful of broad ideas related to your website’s topic, move on to the next\\xa0step.\\n2. See what keywords your competitors rank\\xa0for\\nLooking at which keywords already send traffic to your competitors is usually the best way to accelerate your keyword research. But first, you need to identify those competitors. That’s where your brainstormed list of keywords comes in handy. Just search Google for one of your seed keywords and see who ranks on the front\\xa0page.\\nIf none of the top-ranking websites for your seed keywords resemble your site (or where you’re trying to take it), then you should try searching for slightly more specific things.\\nFor example, if you sell coffee-making equipment on your website, you may find more actual competitors in the search results for “cappuccino maker” rather than “cappuccino.” That’s because there are mostly e-commerce stores like yours ranking for the former and blogs ranking for the latter.\\nOnce you find a competitor website that fits the bill, you should plug it into a competitive intelligence tool like Ahrefs’ Site Explorer to check which pages bring it the most traffic and what keywords these pages are targeting.\\nAfter repeating the process with a few of your competitors, you’ll find yourself with a pretty sizable list of relevant keywords. And you’ve barely even started your keyword research!\\nWhether these keyword ideas are purely informational (i.e., blog articles) or have commercial intent (i.e., product pages) is something we’re going to determine in later stages of our keyword research process. For now, your goal is to collect as many relevant keyword ideas as you\\xa0can.\\nMake sure to repeat this process for as many competitors as you can. We have a handy report in Site Explorer, which will help you discover more of them. It’s called “Competing Domains” and shows you similar websites to the one you’ve entered based on the common keywords that they rank for in Google.\\nIf you’re doing keyword research for an established website, you may find that you’ve already covered most of your competitors’ keywords. In this case, you should try using the Content Gap report in Ahrefs’ Site Explorer. It finds keywords that one or more of your competitors rank for, but you don’t.\\nTo use it, plug a few of your competitors’ websites into the top section, then paste your own site into the bottom field and click “Show keywords.”\\nYou can learn more about content gap analysis in this video.\\n3. Use keyword research tools\\nCompetitors can be a great source of keyword ideas. But it’s very likely that there are many keywords that your competitors haven’t covered yet. You can find these using various keyword research tools.\\nKeyword research tools all work the same way. You plug in a seed keyword, and they pull keyword ideas from their databases based on that keyword.\\nGoogle Keyword Planner (GKP for short) is perhaps the most well-known keyword tool. It’s free to use, and although it’s made for people who want to display paid advertisements in Google, you can also use it to find keywords for SEO purposes.\\nHere are some keyword ideas that GKP has given me for the seed keyword “coffee”:\\nIt is important to note that GKP is capable of generating keyword ideas that don’t necessarily contain your seed keyword in them. Take the keyword “percolator,” for example. Unless you’re a hardcore coffee connoisseur, you probably won’t know this relates to coffee. Which makes GKP quite a useful tool for discovering non-obvious keyword ideas.\\nAnd whenever you discover an interesting keyword like that, try using it as your new seed keyword and see what kind of new keyword ideas you’ll get from\\xa0it.\\nBeyond Keyword Planner, there are quite a few other free keyword research tools. These are great if you’re just starting out, but you’ll soon realize that they’re quite limited in terms of data and functionality.\\nThus, if you decide to commit to growing the search traffic to your website, you may as well skip the free tier and use a “professional” keyword research tool. Like Ahrefs’ Keywords Explorer.\\nLet’s enter a few of our seed keywords and see how many keyword ideas it gives\\xa0us.\\n3.9 million keywords! No free tool will let you work with such a vast number of keyword ideas.\\nThat may seem like an overwhelming number of keywords to work with. And it is. But don’t worry. You’ll learn how to narrow them down right in the tool later in this\\xa0guide.\\nFor now, let me briefly explain the differences between the two main types of keyword idea reports that we have in Keywords Explorer.\\nThis report will only show you the keyword ideas that contain your seed keywords in them. It has two modes: “Terms match” and “Phrase match.”\\n“Terms match” shows keyword ideas that contain all words of your seed keyword in them, regardless of where exactly they are and what order they’re in. So if our seed keyword is “coffee machine,”\\xa0 we’ll get the following keyword ideas:\\n“Phrase match” only returns keyword ideas that have the words of your seed keyword in the exact order as you entered them. Like\\xa0so:\\nThis report will show keyword ideas that don’t necessarily contain your seed keywords in them. It also has two modes: “Also rank for” and “Also talk\\xa0about.”\\n4. Study your\\xa0niche\\nEverything we’ve discussed so far is enough to generate an almost unlimited number of keyword ideas. But at the same time, the process kind of keeps you “in the\\xa0box.”\\nYou can solve this by going to the places where your target audience hangs out—industry forums, groups, and Q&A sites—and studying their conversations.\\nFor example, here’s a thread I found on the /r/coffee subreddit:\\nA quick check in Keywords Explorer, and I found this search query: “aeropress coffee to water ratio.” It only gets 150 searches per month, but the fact that this topic got 42 upvotes on Reddit means that people really appreciate this knowledge. Plus, the content of that Reddit thread can serve as a foundation for my future piece of content.\\nOther than browsing industry forums, your existing customers can also be a great source of keyword ideas. So the next time you talk to them, remember to pay attention to the language they use and the common questions they ask. That might lead you to some original keyword ideas to cover on your website.\\nHow to analyze keywords\\nHow to analyze keywords\\nHaving access to millions of keyword ideas is all well and good. But how do you know which ones are best? After all, going through them all by hand will be a near-impossible task.\\nThe solution is simple: Use SEO metrics to narrow things down and separate the wheat from the chaff before adding them to your keyword list.\\nLet’s explore four keyword metrics you can use to do\\xa0this.\\nSearch volume\\nSearch volume tells you the average number of times a keyword gets searched per month. For example, “donald trump” has a monthly search volume of 3.1 million in the U.S.\\xa0alone.\\nThere are four important things to know about the search volume metric:\\nAlmost every keyword research tool will have a search volume filter to let you focus on the keyword ideas with a specific range of popularity. It has two main use\\xa0cases:\\nLong-tail keywords are a household name in SEO. And yet they’re often overlooked. It seems no one wants to go after a keyword unless it gets at least a hundred searches per month. Let alone if it comes up as having zero search volume.\\nSuch “zero volume” keywords will only bring a few visitors per month if you rank for them. But the thing is they add up! If you publish a hundred articles targeting such keywords, your annual total traffic may actually add up to a few thousand highly targeted visitors.\\nIt’s a common rookie mistake to disregard low search volume keywords. They’re just as useful as their more popular counterparts. Often even more useful, since they’re more specific and often have high commercial value.\\nAnother important thing to remember about search volumes is that they may vary slightly from tool to tool. That’s because each tool calculates and updates this metric in different ways.\\nAll in all, search volume is an incredibly important metric in SEO. So I highly recommend that you read this dedicated article that I wrote about\\xa0it.\\nGiven that search volume is an annual average, it can often lead you astray in terms of the future search demand of a given search query. If some keyword had a big spike in popularity, this would inflate its average search volume while the popularity might actually decline from\\xa0there.\\nThe infamous NFT game, Axie Infinity, had a big spike in search volume in July 2021. But from there, it’s only been going downhill. So even though the annual average search volume is reported as a solid 169K, last month’s search volume was actually just 39K and is likely to drop even further in the coming months.\\nIf you haven’t heard about it before, Google Trends is a nice free tool for analyzing trending searches. And we have written a pretty extensive guide on how to use\\xa0it.\\nTraffic Potential\\nThe U.S. search volumes of the following two keywords are nearly equal:\\nWhich means that the amount of search traffic that you may get from targeting each of them should also be nearly equal, right?\\nWell, not\\xa0quite.\\nLet’s take the top-ranking pages for each of these keywords and compare how much search traffic they get in the U.S. This can easily be done by copying their URLs into Ahrefs’ Site Explorer.\\nAnd it turns out that one of these pages is actually getting nearly 5X more search traffic than the\\xa0other.\\nHow can that\\xa0be?\\nWell, webpages don’t rank in Google for just a single keyword. If you look at the two screenshots above attentively, you’ll see that the top-ranking page for “sales page” is ranking in Google for 55 keywords (check the “Organic keywords” tile). While the top-ranking page for “submit website to search engines” ranks in Google for a total of 406 different keywords.\\nHere are some of them (as seen in the Organic keywords report in Site Explorer):\\nWhatever search query you have in mind, different people will phrase it differently while, essentially, looking for the same thing. Google is smart enough to understand that. And it, therefore, ranks the same page for all these similar search queries.\\nWe studied this “phenomenon” back in the day, and it turned out that the average top-ranking page would also rank for about a thousand similar keywords.\\nThis means that you should not blindly rely on the search volume of a single keyword when estimating the search traffic that your page is going to get if it ranks for it. What you need to do instead is examine the top-ranking pages for that keyword and see how much search traffic they get in total from all the variations of that keyword, which they rank\\xa0for.\\nHere at Ahrefs, we thought it was such an important thing to consider when analyzing keywords that we have developed a dedicated metric to address it.\\nIt’s called “Traffic Potential,” and it shows how much search traffic the top-ranking page for your keyword gets.\\nIn Ahrefs’ Keywords Explorer, the Traffic Potential metric is located right next to the search volume. This saves you lots of time looking up what page ranks #1 for that keyword and how much search traffic it gets in\\xa0total.\\nBoth the search volume and Traffic Potential metrics are country-specific, though. So if you need to gauge the worldwide search traffic of a top-ranking page, you’ll need to use Site Explorer with “All countries” mode selected.\\nKeyword Difficulty\\nExperienced SEO professionals typically gauge the ranking difficulty of each keyword manually. That is, by looking at the search results for each keyword and analyzing them. They account for many different factors to judge how hard or easy it’ll be to\\xa0rank:\\nThis process varies from person to person, and there’s no consensus on precisely what is and isn’t important here.\\nOne person might believe that Domain Rating is important, and another might think that relevance plays more of a\\xa0role.\\nThe opinions might also vary depending on the type of search query that they’re analyzing, because for different kinds of queries Google gives preference to different things.\\nAll of that makes life a little difficult for SEO tool creators, who try to distill the complex and intricate concept of ranking difficulty down to a simple two-digit number.\\nBut after talking to many professional SEOs about the signals that an actionable Keyword Difficulty (KD) score should factor in, we realized that everyone agreed on at least one thing: Backlinks are very important for ranking.\\nSo, in the end, we decided to base our Keyword Difficulty (KD) score on the number of unique websites linking to the top 10 ranking pages.\\nAs you can see in the image above, KD relates to the estimated number of linking websites your page needs to rank in the top\\xa010.\\nDid you get that? It’s not the estimated number of linking websites you need to rank #1. It’s the estimated number you need to rank in the top 10. Getting to #1 is an entirely different battle.\\nMany people misuse the KD metric by setting the filter from 0 to 10 and focusing solely on the easy keyword ideas. But here’s why avoiding high-KD keywords might be a mistake:\\nThe bottom line is this: KD is not there to deter you from targeting specific keywords. It’s there to help you understand what it’ll take to rank for a given query (as well as the “link-worthiness” of a given\\xa0topic).\\nJust know that you should always manually assess keywords before going after them and not rely solely on any tool’s difficulty score to make your final decision. No single score can distill the complexity of Google’s ranking algorithm into a single number. Be wary of tool creators who suggest otherwise.\\nCost Per Click (CPC)\\nCost Per Click (CPC) shows how much advertisers are willing to pay for a click on an ad displayed on top of search results for a given keyword. It’s more a metric for advertisers than SEOs, but it can serve as a useful proxy for a keyword’s value.\\nFor example, the keyword “project management software” has a pretty high CPC of $30. That’s because people searching for it seem to be looking for a product to\\xa0buy.\\nBut it’s a different story for “project management methodologies.” This is clearly an informational search query, and the odds of selling your project management software to these people are not as high—hence, the much lower CPC of $6.\\nOne important thing to know about CPC is that it’s much more volatile than search volume. While the search demand for most keywords stays roughly the same from month to month, their CPC can change any minute as more companies display ads for\\xa0them.\\nThis means that the CPC values that you see in various SEO tools are merely snapshots in time and aren’t particularly precise. If you want to get real-time CPC data, it is recommended that you use AdWords.\\nHow to target keywords\\nHow to target keywords\\nA very important step in analyzing keywords is to identify what kind of page you’ll need to create in order to maximize your chances to rank. And if you can use that page to target a group of relevant keywords all at once. Or perhaps create a few additional pages to target some of the keywords individually.\\nLet’s explore how you determine those things.\\n1. Identify the Parent Topic\\nLet’s say that you’ve got the following keywords on your\\xa0list:\\nAll of these search queries seem to be talking about the same topic: “whipped coffee.” But does that mean that a single page can rank well for all these keywords? Or perhaps you’ll need to create individual pages to target each of them separately?\\nThe answer largely depends on how Google sees these keywords. Does it see them as part of the same topic? Or does it see them as individual topics?\\nYou can get a sense of this by searching for each of these keywords one by one and comparing the search results. For example, let’s compare the search results for the keyword “whipped coffee” with those of the keyword “whipped coffee recipe”:\\nThe top-ranking pages for both keywords are nearly identical. This means that Google sees the search query “whipped coffee recipe” as a subtopic of a more general query, “whipped coffee.” So you can rank for both keywords with a single page.\\nNow let’s compare the search results for “whipped coffee” with those of “whipped coffee without sugar”:\\nThis time, there’s absolutely no crossover between the two SERPs. That means that “whipped coffee without sugar” isn’t part of a broader “whipped coffee” topic. Or at least Google doesn’t think so. Which means that you’ll need to create two separate pages if you want to target both of these keywords.\\nComparing the search results for seemingly related keywords is a great way to understand how closely related they are and if you should target them with one page or multiple pages. But doing this for hundreds of keywords can be a rather daunting task.\\nThat’s why we developed a handy feature in Keywords Explorer, which helps you to identify if a keyword you’re looking at is a part of a broader topic or, rather, deserves a dedicated page of its\\xa0own.\\nWe call it the Parent Topic.\\nThe way we identify the Parent Topic of a keyword is very simple. We take the page that ranks #1 for that keyword and look up if there’s a more popular search query that it gets search traffic from.\\nSo for the keyword “whipped coffee recipe,” we have identified that its top-ranking page is also ranking at the top for a more popular keyword, “whipped coffee.” Which isn’t the case for the keyword “whipped coffee without sugar.” It turned out to be a Parent Topic to itself.\\nThe Parent Topic functionality is extremely helpful for grouping large lists of keywords into the so-called topical clusters. But we don’t recommend that you follow it blindly. And here’s why.\\nIn the screenshot above, Keywords Explorer says that the search query “what is whipped coffee” is a subtopic of “whipped coffee.” Which means that you don’t need to create a dedicated page if you want to rank for\\xa0it.\\nBut let’s take a look at the top-ranking pages for the “what is whipped coffee” keyword:\\nRight at position #3, we see a page that is optimized precisely for targeting that specific search query “what is whipped coffee.” While the pages above and below it are actually targeting a more general term: “whipped coffee recipe.”\\nThus, if you feel that a certain subtopic may actually deserve a dedicated page of its own, just take the risk and go for it! It may very well pay\\xa0off.\\n2. Study the search intent\\nLet’s say that you have the following keywords on your\\xa0list:\\nNow you need to understand which should be best targeted with informational blog articles and which should be product or category pages.\\nFor some keywords, this is obvious. You wouldn’t create a product page for “how to brew cold brew coffee” because searchers are clearly looking for a tutorial.\\nBut what about a keyword like “arabica coffee”? Do searchers want information, or do they want to buy some? In SEO, we call this studying the search intent.\\nGoogle, presumably, has some ways of identifying what exactly searchers want to see for any given search query. And whatever page satisfies the search intent best tends to float to the top of the search results. So the way you determine the search intent behind some keywords is by looking at the top-ranking pages.\\nLet’s look at the SERP for “arabica coffee”:\\nHere we have both: informational pages and online shops. In SEO, we call this a fractured search intent. It means that you may be able to rank for this keyword with any of the two page\\xa0types.\\nBut pinpointing the right search intent doesn’t end with identifying the right page type for a particular query. Ideally, you want to factor in the following variables:\\nHere’s a nice example of a dominant content angle. In the search results for “how to make latte,” someone has focused on making a perfect one, while someone else has decided to share how it can be done without an espresso machine.\\nBut what if you tried the following angle for your own article: “How to Make a Latte Like Gordon Ramsay.” Maybe some people would consider this to be better than “perfect” and click on your\\xa0page?\\nAs you can tell, the reason why you need to analyze the search intent of a keyword is to not necessarily follow it to a\\xa0T.\\nIf you have a strong opinion about the search intent of a given search query but none of the top-ranking pages seem to follow it, give your intuition a chance. Even if your page is different from what’s already there, Google may give it a chance and show it to some of the searchers. And if they happen to like it, your page will secure its spot on the\\xa0SERP.\\nHow to prioritize keywords\\nHow to prioritize keywords\\nPrioritizing your list of keywords and deciding where you should invest your efforts first is probably the least straightforward and extremely “individual” part of the keyword research process.\\nThere are just too many things to consider:\\nThat last point is a particularly important one. While search volume, traffic potential, ranking difficulty, and search intent are all important considerations, you also need to factor in what ranking for this keyword will be worth to your business.\\nHow to gauge the “business potential” of a keyword\\nMany marketers judge the value of a keyword by mapping it to the so-called buyer’s journey, i.e., a process people go through before making a purchase. Conventional wisdom says the earlier people are in their journey, the less likely they are to\\xa0buy.\\nHere’s one popular buyer’s journey framework:\\nTOFU keywords tend to have high search volumes but low conversion rates (i.e., “keyword research,” which has 5,700 monthly searches). While BOFU keywords are extremely lucrative but their search volumes are much lower (i.e., “best keyword research tool,” which has 800 monthly searches).\\nAt Ahrefs, we think that this kind of framework is rather limiting and perhaps even misleading.\\nHere are three reasons why:\\nFirst, the fact that someone is looking for a TOFU term like “keyword research” doesn’t mean that you can’t promote your product to them. (Which is exactly what I did in this very article with all the mentions of our Keywords Explorer.)\\nSecond, it’s quite challenging to assign each keyword a definitive TOFU, MOFU, or BOFU label because things aren’t always that clear-cut. For example, “best keyword research tool” could be a MOFU or BOFU keyword for us. It depends on how you look at\\xa0it.\\nThird, some marketers broaden their definition of TOFU to such a degree that they end up covering completely unrelated topics. For example, the folks at HubSpot have written articles targeting the following keywords: “famous quotes,” “ice breaker games” and, most hilarious of all, “shrug emoji.”\\nHere at Ahrefs, we’ve developed our own way of determining the business value of a keyword.\\nWe call it “business potential,” and it’s a simple score from 0 to 3, which indicates how easy it will be to pitch our product while covering a given keyword.\\nTo be completely honest with you, we do sometimes have internal debates within our team when we’re scoring our blog topics according to this scale. And yet we still prefer it to any of these conventional “buyer’s journey” frameworks.\\nWhich keywords should you start working on\\xa0first?\\nUnfortunately, there’s no straightforward answer to this question. As SEOs like to say, “It depends.”\\nKeyword research is an act of balancing your unique circumstances with a set of metrics and concepts, which we’ve just covered: traffic potential, keyword difficulty, business potential, and search intent.\\nIn some cases, your job will be to get as much traffic as possible as fast as possible, which comes down to finding the high-volume, low-difficulty keywords. Other times, you’ll need to focus on leads or conversions, in which case business potential will be the most important metric to focus\\xa0on.\\nKeyword research is not the process of finding “easy to rank for” keywords. It’s the process of finding the keywords that make the most sense to your business.\\nYou should also have short-, medium-, and long-term ranking goals. If you only focus on short-term goals, you’ll never rank for the most lucrative keywords. If you only focus on medium- and long-term goals, it’ll take years to get any traffic.\\nKeyword research tools\\nKeyword research tools\\nKeyword research is practically impossible to do without specialized tools. And if you’re only starting out or have a tight budget, here are some free keyword research tools for\\xa0you:\\nAnd once you get truly serious about growing the search traffic of your website, make sure to sign up for Ahrefs and give Keywords Explorer a spin. This tool has pretty much everything you need to perform expert-level keyword research and discover some lucrative keyword ideas.\\nKey takeaways\\nCopy link\\nThe number of websites linking to this post.\\nThis post's estimated monthly organic search traffic.\"}"
      ]
     },
     "execution_count": 69,
     "metadata": {},
     "output_type": "execute_result"
    }
   ],
   "source": [
    "{\"url\": response['results'][0]['url'], \"content\": response['results'][0]['raw_content']}"
   ]
  },
  {
   "cell_type": "code",
   "execution_count": null,
   "id": "4cf8df53",
   "metadata": {},
   "outputs": [],
   "source": []
  }
 ],
 "metadata": {
  "kernelspec": {
   "display_name": "Python 3 (ipykernel)",
   "language": "python",
   "name": "python3"
  },
  "language_info": {
   "codemirror_mode": {
    "name": "ipython",
    "version": 3
   },
   "file_extension": ".py",
   "mimetype": "text/x-python",
   "name": "python",
   "nbconvert_exporter": "python",
   "pygments_lexer": "ipython3",
   "version": "3.9.6"
  }
 },
 "nbformat": 4,
 "nbformat_minor": 5
}
