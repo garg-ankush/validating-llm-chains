{
 "cells": [
  {
   "cell_type": "code",
   "execution_count": 114,
   "id": "70012629-e5e7-426d-815d-d49db0e84cb3",
   "metadata": {},
   "outputs": [],
   "source": [
    "import pandas as pd\n",
    "import matplotlib.pyplot as plt\n",
    "\n",
    "data = pd.read_excel(\"responses.xlsx\")\n",
    "data = data[~data['Remove PII'].isna()]\n",
    "\n",
    "error_columns = ['Remove PII', 'Symptoms, Reason to call, Rec', 'Summarized']"
   ]
  },
  {
   "cell_type": "code",
   "execution_count": 115,
   "id": "0bff37f8-c337-4866-96aa-f8c4067dc723",
   "metadata": {},
   "outputs": [],
   "source": [
    "data[error_columns] = data[error_columns].astype('bool')"
   ]
  },
  {
   "cell_type": "markdown",
   "id": "7d9eba8a-919c-4bbe-8ea9-d8693b004c7a",
   "metadata": {},
   "source": [
    "### Error rates for each node"
   ]
  },
  {
   "cell_type": "code",
   "execution_count": 116,
   "id": "4b111249-7f8f-4f3d-b222-d20458c691ee",
   "metadata": {},
   "outputs": [],
   "source": [
    "def error_rate_for_node(df, node_name):\n",
    "    num_rows = len(df)\n",
    "    return df[node_name].value_counts(normalize=True)\n",
    "    "
   ]
  },
  {
   "cell_type": "code",
   "execution_count": 117,
   "id": "9ce404b8-5d82-416d-830a-1d24ca5e5e6a",
   "metadata": {},
   "outputs": [
    {
     "name": "stdout",
     "output_type": "stream",
     "text": [
      "PII node error rate: Remove PII\n",
      "True     0.565217\n",
      "False    0.434783\n",
      "Name: proportion, dtype: float64\n"
     ]
    }
   ],
   "source": [
    "print(f\"PII node error rate: {error_rate_for_node(data, node_name=error_columns[0])}\")"
   ]
  },
  {
   "cell_type": "markdown",
   "id": "25238dd6-5936-47d6-aaf9-9b45abee496e",
   "metadata": {},
   "source": [
    "#### 43% of the data had PII information. This is a problematic node."
   ]
  },
  {
   "cell_type": "code",
   "execution_count": 118,
   "id": "c1a09554-09f9-4df3-ab88-b0aeacc71076",
   "metadata": {},
   "outputs": [
    {
     "name": "stdout",
     "output_type": "stream",
     "text": [
      "Main Reason node error rate: Symptoms, Reason to call, Rec\n",
      "True     0.724638\n",
      "False    0.275362\n",
      "Name: proportion, dtype: float64\n"
     ]
    }
   ],
   "source": [
    "print(f\"Main Reason node error rate: {error_rate_for_node(data, node_name=error_columns[1])}\")"
   ]
  },
  {
   "cell_type": "code",
   "execution_count": 119,
   "id": "d51da160-ce45-4f4d-91fb-76a959cce8ea",
   "metadata": {},
   "outputs": [
    {
     "name": "stdout",
     "output_type": "stream",
     "text": [
      "Summarizer node error rate: Summarized\n",
      "True     0.768116\n",
      "False    0.231884\n",
      "Name: proportion, dtype: float64\n"
     ]
    }
   ],
   "source": [
    "print(f\"Summarizer node error rate: {error_rate_for_node(data, node_name=error_columns[2])}\")"
   ]
  },
  {
   "cell_type": "code",
   "execution_count": 120,
   "id": "736b2c32-a9f8-4f10-bc24-5336cbbdcdec",
   "metadata": {},
   "outputs": [],
   "source": [
    "data['all_three_correct'] = data[error_columns[0]] | data[error_columns[1]] | data[error_columns[2]] \n",
    "\n",
    "data['node_2_and_3_incorrect'] = data[error_columns[1]] | data[error_columns[2]]"
   ]
  },
  {
   "cell_type": "code",
   "execution_count": 121,
   "id": "fc9731a0-9f02-4364-9977-856ccac149eb",
   "metadata": {},
   "outputs": [
    {
     "data": {
      "text/plain": [
       "all_three_correct\n",
       "True     0.826087\n",
       "False    0.173913\n",
       "Name: proportion, dtype: float64"
      ]
     },
     "execution_count": 121,
     "metadata": {},
     "output_type": "execute_result"
    }
   ],
   "source": [
    "data['all_three_correct'].value_counts(normalize=True)"
   ]
  },
  {
   "cell_type": "markdown",
   "id": "3dd1dec0-1408-49d7-a6dd-d79694ccddcf",
   "metadata": {},
   "source": [
    "#### Seems like 17% of the time all three of the nodes breakdown. That could be because PII leaked through the chain, or that the symptoms or main reason for the call was off in addition to PII."
   ]
  },
  {
   "cell_type": "code",
   "execution_count": 122,
   "id": "a5440ff1-fbc2-4dfd-8fa4-ece089330b54",
   "metadata": {},
   "outputs": [
    {
     "data": {
      "text/plain": [
       "node_2_and_3_incorrect\n",
       "True     0.782609\n",
       "False    0.217391\n",
       "Name: proportion, dtype: float64"
      ]
     },
     "execution_count": 122,
     "metadata": {},
     "output_type": "execute_result"
    }
   ],
   "source": [
    "data['node_2_and_3_incorrect'].value_counts(normalize=True)"
   ]
  },
  {
   "cell_type": "markdown",
   "id": "f6020260-3d9b-4a20-a575-96382cf17fb0",
   "metadata": {},
   "source": [
    "#### Node 2 and 3 are certainly linked and their errors move together"
   ]
  },
  {
   "cell_type": "code",
   "execution_count": 123,
   "id": "070de7a8-3526-4324-ae0d-90e10fad3729",
   "metadata": {},
   "outputs": [
    {
     "data": {
      "text/plain": [
       "4      PII and main reason. As a result summary is off.\n",
       "5               PII leaked into recs through the chain \n",
       "9      PII and main reason. As a result summary is off.\n",
       "12    PII and main reason. Summary also doesn't capt...\n",
       "19              PII leaked into recs through the chain \n",
       "33     PII and main reason. As a result summary is off.\n",
       "35    PII and main reason. Summary also doesn't capt...\n",
       "36    PII and main reason. Summary also doesn't capt...\n",
       "45               PII, \"some symptoms\", summary off too \n",
       "47                                                  NaN\n",
       "49              PII leaked into recs through the chain \n",
       "53              PII leaked into recs through the chain \n",
       "55    Main reason for the call leaked through to the...\n",
       "60     PII and main reason. As a result summary is off.\n",
       "68    Main reason for the call leaked through to the...\n",
       "Name: Notes, dtype: object"
      ]
     },
     "execution_count": 123,
     "metadata": {},
     "output_type": "execute_result"
    }
   ],
   "source": [
    "data[data['node_2_and_3_incorrect'] == False]['Notes']"
   ]
  },
  {
   "cell_type": "markdown",
   "id": "38a58978-aaa0-40f9-95d3-025c712852e6",
   "metadata": {},
   "source": [
    "#### Seems like there are instances where PII leaks through the entire chain. But more commonly if the main reason is wrong, the summary is wrong."
   ]
  },
  {
   "cell_type": "code",
   "execution_count": 139,
   "id": "bf8b22cc-2837-42f5-927e-f0e7c7f439fa",
   "metadata": {},
   "outputs": [],
   "source": [
    "data = data.rename(columns={\"Remove PII\": \"Node1\", \"Symptoms, Reason to call, Rec\": \"Node2\", \"Summarized\": \"Node3\"})"
   ]
  },
  {
   "cell_type": "markdown",
   "id": "c2f0fb8d-09a7-4b61-9dce-2d680fe186a3",
   "metadata": {},
   "source": [
    "# Calculate Conditional Probabilities"
   ]
  },
  {
   "cell_type": "code",
   "execution_count": 240,
   "id": "53b7c4e4-f8c4-46e6-9f74-7f8b65f5a1f4",
   "metadata": {},
   "outputs": [],
   "source": [
    "conditions = [\n",
    "    {\"targets\": [\"Node1\", \"Node2\"], \"given\": \"Node1\"}, # P(1, 2 | 1)\n",
    "    {\"targets\": [\"Node1\", \"Node3\"], \"given\": \"Node1\"}, # P(1, 3 | 1)\n",
    "    {\"targets\": [\"Node1\", \"Node2\", \"Node3\"], \"given\": \"Node1\"}, #  P(1, 2, 3 | 1)\n",
    "    {\"targets\": [\"Node2\", \"Node3\"], \"given\": \"Node2\"}, # P(2, 3 | 2)\n",
    "    # {\"targets\": [\"Node2\", \"Node1\"], \"given\": \"Node2\"} , # P(2, 1 | 2)\n",
    "    # {\"targets\": [\"Node1\", \"Node2\", \"Node3\"], \"given\": \"Node2\"}, # P(1, 2, 3 | 2)\n",
    "    # {\"targets\": [\"Node1\", \"Node3\"], \"given\": \"Node3\"}, # P(1, 3 | 3)\n",
    "    # {\"targets\": [\"Node2\", \"Node3\"], \"given\": \"Node3\"}, # P(2, 3 | 3)\n",
    "    # {\"targets\": [\"Node1\", \"Node2\", \"Node3\"], \"given\": \"Node3\"} # P(1, 2, 3 | 3)\n",
    "]"
   ]
  },
  {
   "cell_type": "code",
   "execution_count": 241,
   "id": "73567c1e-3233-40a7-b4c1-0861b3368b3a",
   "metadata": {},
   "outputs": [],
   "source": [
    "import numpy as np\n",
    "\n",
    "def weighted_conditional_prob(data, conditions):\n",
    "    results = []\n",
    "    sample_sizes = []\n",
    "    total_samples = len(data)\n",
    "    \n",
    "    for condition in conditions:\n",
    "        targets = condition['targets']\n",
    "        given = condition['given']\n",
    "        \n",
    "        given_samples = len(data[data[given] == False])\n",
    "        filtered_df = data[data[given] == False]\n",
    "        \n",
    "        for target in targets:\n",
    "            filtered_df = filtered_df[filtered_df[target] == False]\n",
    "        \n",
    "        probability = len(filtered_df) / given_samples\n",
    "        \n",
    "        results.append(probability)\n",
    "        sample_sizes.append(given_samples)\n",
    "\n",
    "    weights = np.array(sample_sizes)\n",
    "    weights = weights / np.sum(weights)\n",
    "    # Apply weights to probabilities\n",
    "    weighted_probs = np.array(results) * weights\n",
    "    \n",
    "    return results, weighted_probs, weights, sample_sizes, total_samples"
   ]
  },
  {
   "cell_type": "code",
   "execution_count": 244,
   "id": "d80dc2d6-87a0-4de6-b1d1-7b10519380d7",
   "metadata": {},
   "outputs": [],
   "source": [
    "original_probs, weighted_probs, weights, sample_sizes, total_samples = weighted_conditional_prob(data, conditions)\n",
    "\n",
    "# Create a DataFrame\n",
    "results_df = pd.DataFrame({\n",
    "    'condition': [f\"P({', '.join(f'-{t}' for t in c['targets'])} | -{c['given']})\" for c in conditions],\n",
    "    'original_probability': original_probs,\n",
    "    'weighted_probability': weighted_probs,\n",
    "    'weight': weights,\n",
    "    'sample_size': sample_sizes,\n",
    "    'total_samples': total_samples\n",
    "})\n",
    "\n",
    "# Format the numeric columns\n",
    "results_df['original_probability'] = results_df['original_probability'].map('{:.6f}'.format)\n",
    "results_df['weighted_probability'] = results_df['weighted_probability'].map('{:.6f}'.format)\n",
    "results_df['weight'] = results_df['weight'].map('{:.6f}'.format)"
   ]
  },
  {
   "cell_type": "code",
   "execution_count": 245,
   "id": "ab910f59-8820-4b72-9e33-e88c2bdba610",
   "metadata": {},
   "outputs": [
    {
     "data": {
      "text/html": [
       "<div>\n",
       "<style scoped>\n",
       "    .dataframe tbody tr th:only-of-type {\n",
       "        vertical-align: middle;\n",
       "    }\n",
       "\n",
       "    .dataframe tbody tr th {\n",
       "        vertical-align: top;\n",
       "    }\n",
       "\n",
       "    .dataframe thead th {\n",
       "        text-align: right;\n",
       "    }\n",
       "</style>\n",
       "<table border=\"1\" class=\"dataframe\">\n",
       "  <thead>\n",
       "    <tr style=\"text-align: right;\">\n",
       "      <th></th>\n",
       "      <th>condition</th>\n",
       "      <th>original_probability</th>\n",
       "      <th>weighted_probability</th>\n",
       "      <th>weight</th>\n",
       "      <th>sample_size</th>\n",
       "      <th>total_samples</th>\n",
       "    </tr>\n",
       "  </thead>\n",
       "  <tbody>\n",
       "    <tr>\n",
       "      <th>3</th>\n",
       "      <td>P(-Node2, -Node3 | -Node2)</td>\n",
       "      <td>0.789474</td>\n",
       "      <td>0.137615</td>\n",
       "      <td>0.174312</td>\n",
       "      <td>19</td>\n",
       "      <td>69</td>\n",
       "    </tr>\n",
       "    <tr>\n",
       "      <th>0</th>\n",
       "      <td>P(-Node1, -Node2 | -Node1)</td>\n",
       "      <td>0.400000</td>\n",
       "      <td>0.110092</td>\n",
       "      <td>0.275229</td>\n",
       "      <td>30</td>\n",
       "      <td>69</td>\n",
       "    </tr>\n",
       "    <tr>\n",
       "      <th>1</th>\n",
       "      <td>P(-Node1, -Node3 | -Node1)</td>\n",
       "      <td>0.400000</td>\n",
       "      <td>0.110092</td>\n",
       "      <td>0.275229</td>\n",
       "      <td>30</td>\n",
       "      <td>69</td>\n",
       "    </tr>\n",
       "    <tr>\n",
       "      <th>2</th>\n",
       "      <td>P(-Node1, -Node2, -Node3 | -Node1)</td>\n",
       "      <td>0.400000</td>\n",
       "      <td>0.110092</td>\n",
       "      <td>0.275229</td>\n",
       "      <td>30</td>\n",
       "      <td>69</td>\n",
       "    </tr>\n",
       "  </tbody>\n",
       "</table>\n",
       "</div>"
      ],
      "text/plain": [
       "                            condition original_probability  \\\n",
       "3          P(-Node2, -Node3 | -Node2)             0.789474   \n",
       "0          P(-Node1, -Node2 | -Node1)             0.400000   \n",
       "1          P(-Node1, -Node3 | -Node1)             0.400000   \n",
       "2  P(-Node1, -Node2, -Node3 | -Node1)             0.400000   \n",
       "\n",
       "  weighted_probability    weight  sample_size  total_samples  \n",
       "3             0.137615  0.174312           19             69  \n",
       "0             0.110092  0.275229           30             69  \n",
       "1             0.110092  0.275229           30             69  \n",
       "2             0.110092  0.275229           30             69  "
      ]
     },
     "execution_count": 245,
     "metadata": {},
     "output_type": "execute_result"
    }
   ],
   "source": [
    "results_df.sort_values(\"weighted_probability\", ascending=False)"
   ]
  },
  {
   "cell_type": "code",
   "execution_count": null,
   "id": "0d42f226-9036-4246-a4de-74d9ee635f7b",
   "metadata": {},
   "outputs": [],
   "source": []
  }
 ],
 "metadata": {
  "kernelspec": {
   "display_name": "validate-llms",
   "language": "python",
   "name": "validate-llms"
  },
  "language_info": {
   "codemirror_mode": {
    "name": "ipython",
    "version": 3
   },
   "file_extension": ".py",
   "mimetype": "text/x-python",
   "name": "python",
   "nbconvert_exporter": "python",
   "pygments_lexer": "ipython3",
   "version": "3.11.5"
  }
 },
 "nbformat": 4,
 "nbformat_minor": 5
}
