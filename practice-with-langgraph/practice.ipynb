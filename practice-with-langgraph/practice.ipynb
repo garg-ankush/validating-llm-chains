{
 "cells": [
  {
   "cell_type": "code",
   "execution_count": 1,
   "id": "02a16b6c",
   "metadata": {},
   "outputs": [],
   "source": [
    "%%capture --no-stderr\n",
    "%pip install -U langgraph langsmith\n",
    "\n",
    "# Used for this tutorial; not a requirement for LangGraph\n",
    "%pip install -U langchain_anthropic"
   ]
  },
  {
   "cell_type": "code",
   "execution_count": 1,
   "id": "e41d4824",
   "metadata": {},
   "outputs": [
    {
     "name": "stdin",
     "output_type": "stream",
     "text": [
      "ANTHROPIC_API_KEY:  ········\n"
     ]
    }
   ],
   "source": [
    "import getpass\n",
    "import os\n",
    "\n",
    "def _set_env(var: str):\n",
    "    if not os.environ.get(var):\n",
    "        os.environ[var] = getpass.getpass(f\"{var}: \")\n",
    "\n",
    "_set_env(\"ANTHROPIC_API_KEY\")"
   ]
  },
  {
   "cell_type": "code",
   "execution_count": 2,
   "id": "331bb4f0-b219-4980-9105-c38774c8a262",
   "metadata": {},
   "outputs": [
    {
     "name": "stdin",
     "output_type": "stream",
     "text": [
      "LANGSMITH_API_KEY:  ········\n"
     ]
    }
   ],
   "source": [
    "_set_env(\"LANGSMITH_API_KEY\")\n",
    "os.environ[\"LANGCHAIN_TRACING_V2\"] = \"true\"\n",
    "os.environ[\"LANGCHAIN_PROJECT\"] = \"LangGraph Tutorial\""
   ]
  },
  {
   "cell_type": "code",
   "execution_count": 4,
   "id": "4e531033-55f9-4237-91d9-44ca59386bfb",
   "metadata": {},
   "outputs": [],
   "source": [
    "from typing import Annotated\n",
    "from typing_extensions import TypedDict\n",
    "\n",
    "from langgraph.graph import StateGraph, START, END\n",
    "from langgraph.graph.message import add_messages\n",
    "\n",
    "class State(TypedDict):\n",
    "    messages: Annotated[list, add_messages]\n",
    "\n",
    "graph_builder = StateGraph(State)"
   ]
  },
  {
   "cell_type": "code",
   "execution_count": 13,
   "id": "5bb243d2-5926-444b-9e5e-a06e4a75cc7c",
   "metadata": {},
   "outputs": [],
   "source": [
    "from langchain_anthropic import ChatAnthropic\n",
    "\n",
    "llm = ChatAnthropic(model='claude-3-haiku-20240307')\n",
    "\n",
    "def chatbot(state: State):\n",
    "    return {\"messages\": [llm.invoke(state[\"messages\"])]}\n",
    "\n",
    "graph_builder.add_node(\"chatbot\", chatbot)"
   ]
  },
  {
   "cell_type": "code",
   "execution_count": 15,
   "id": "100a1902-6faa-479a-854c-6d6297313f76",
   "metadata": {},
   "outputs": [],
   "source": [
    "graph_builder.add_edge(START, \"chatbot\")"
   ]
  },
  {
   "cell_type": "code",
   "execution_count": 16,
   "id": "f1bb6514-c4f5-497f-a5e9-badfeaa1d5bf",
   "metadata": {},
   "outputs": [],
   "source": [
    "graph_builder.add_edge(\"chatbot\", END)"
   ]
  },
  {
   "cell_type": "code",
   "execution_count": 17,
   "id": "e59998df-6f1d-4f58-a3a2-a4409c9d8b78",
   "metadata": {},
   "outputs": [],
   "source": [
    "graph = graph_builder.compile()"
   ]
  },
  {
   "cell_type": "code",
   "execution_count": 18,
   "id": "b70d27c8-a9a2-42d2-80f9-2954bd667098",
   "metadata": {},
   "outputs": [
    {
     "data": {
      "image/jpeg": "[encoded data removed]",
      "text/plain": [
       "<IPython.core.display.Image object>"
      ]
     },
     "metadata": {},
     "output_type": "display_data"
    }
   ],
   "source": [
    "from IPython.display import Image, display\n",
    "\n",
    "try:\n",
    "    display(Image(graph.get_graph().draw_mermaid_png()))\n",
    "except Exception:\n",
    "    # This requires some extra dependencies and is optional\n",
    "    pass"
   ]
  },
  {
   "cell_type": "code",
   "execution_count": 22,
   "id": "867ff28e-eff4-43c9-9e0d-2faa2ef4f3b8",
   "metadata": {},
   "outputs": [
    {
     "name": "stdin",
     "output_type": "stream",
     "text": [
      "User:  Why do Indians call random people aunty and uncle?\n"
     ]
    },
    {
     "name": "stdout",
     "output_type": "stream",
     "text": [
      "Assistant: There are a few reasons why Indians often refer to people as \"aunty\" and \"uncle\" even if they are not actually related:\n",
      "\n",
      "1. Respect and etiquette - Using \"aunty\" and \"uncle\" is a way to show respect and deference to elders or older people, regardless of their relation to you. It's considered polite and respectful.\n",
      "\n",
      "2. Kinship terms - In Indian cultures, the kinship system is more expansive than the nuclear family. Terms like \"aunty\" and \"uncle\" can refer to family friends, community elders, or even strangers who are of an older generation.\n",
      "\n",
      "3. Familiarity and comfort - Using these terms helps create a sense of familiarity and comfort, even with people you don't know well. It's a way to acknowledge the other person and have a friendly interaction.\n",
      "\n",
      "4. Cultural norms - Referring to elders as \"aunty\" or \"uncle\" is a very common cultural practice in India and among Indian communities. It's part of the social etiquette and expected behavior.\n",
      "\n",
      "5. Lack of age-specific titles - Unlike Western cultures that have formal titles like \"Mr.\" and \"Mrs.\", Indian languages often lack equivalent age-specific titles. \"Aunty\" and \"uncle\" fill this gap in a culturally appropriate way.\n",
      "\n",
      "So in essence, it's a way to show respect, create warmth, and acknowledge generational differences, even among non-relatives. It's a deeply ingrained part of the Indian cultural and social fabric.\n"
     ]
    },
    {
     "name": "stdin",
     "output_type": "stream",
     "text": [
      "User:  Are there other culture who also do that?\n"
     ]
    },
    {
     "name": "stdout",
     "output_type": "stream",
     "text": [
      "Assistant: Yes, there are a number of other cultures that have similar practices of venerating or honoring ancestors:\n",
      "\n",
      "- In East Asian cultures like China, Japan, and Korea, ancestor veneration and honoring one's ancestors is an important part of cultural and religious traditions. This often involves offerings, rituals, and maintaining ancestral altars or shrines.\n",
      "\n",
      "- In Latin American cultures, the Day of the Dead (Día de los Muertos) is a holiday where families gather to remember and honor their deceased loved ones, often visiting cemeteries and leaving offerings.\n",
      "\n",
      "- In Hinduism and other South Asian religions, honoring one's ancestors through rituals and offerings is a significant practice.\n",
      "\n",
      "- In some Indigenous cultures around the world, communicating with and honoring ancestors is an integral part of spirituality and cosmology.\n",
      "\n",
      "- In many African cultures, ancestral veneration, rituals, and beliefs about the importance of the ancestors are deeply rooted.\n",
      "\n",
      "So while the specific practices may vary, the general concept of honoring, remembering, and maintaining connections with one's ancestors is found in a wide range of cultural and religious traditions globally. It speaks to the universal human desire to honor those who came before us.\n"
     ]
    },
    {
     "name": "stdin",
     "output_type": "stream",
     "text": [
      "User:  No, I meant call each other aunty and uncles in other cultures.\n"
     ]
    },
    {
     "name": "stdout",
     "output_type": "stream",
     "text": [
      "Assistant: Ah I see, you're referring to the practice in some cultures of addressing non-related older adults as \"aunt\" or \"uncle\" as a sign of respect and kinship, even though they are not actual family members.\n",
      "\n",
      "This is quite common in many Asian and African cultures, as well as in some Hispanic and Indigenous communities. The terms \"auntie\" or \"aunty\" and \"uncle\" are used to show deference and create a sense of community, even for elders who are not biologically related.\n",
      "\n",
      "It reflects the cultural value placed on respecting one's elders and creating a feeling of extended family beyond just blood relations. Calling an older adult \"aunt\" or \"uncle\" is a way to acknowledge their seniority and importance in the community, even if they are not literally your aunt or uncle.\n",
      "\n",
      "This practice helps foster stronger social bonds and a sense of belonging, particularly in cultures that emphasize collectivism and interdependence over strict individualism. It's a way of creating a kinship network that goes beyond the nuclear family.\n"
     ]
    },
    {
     "name": "stdin",
     "output_type": "stream",
     "text": [
      "User:  q\n"
     ]
    },
    {
     "name": "stdout",
     "output_type": "stream",
     "text": [
      "Goodbye\n"
     ]
    }
   ],
   "source": [
    "while True:\n",
    "    user_input = input(\"User: \")\n",
    "    if user_input.lower() in ['quit', 'exit', 'q']:\n",
    "        print(\"Goodbye\")\n",
    "        break\n",
    "    for event in graph.stream({\"messages\": (\"user\", user_input)}):\n",
    "        for value in event.values():\n",
    "            print(\"Assistant:\", value['messages'][-1].content)"
   ]
  },
  {
   "cell_type": "code",
   "execution_count": 30,
   "id": "fecc5afd-4e93-4529-9790-824fb42e1d95",
   "metadata": {},
   "outputs": [
    {
     "name": "stdout",
     "output_type": "stream",
     "text": [
      "[AIMessage(content='I don\\'t have enough context to provide a meaningful response to just the letter \"q\". Could you please rephrase your question or provide more details about what you\\'re looking for?', response_metadata={'id': 'msg_01PCdGqYrGXGSeBG3F51hF9U', 'model': 'claude-3-haiku-20240307', 'stop_reason': 'end_turn', 'stop_sequence': None, 'usage': {'input_tokens': 8, 'output_tokens': 40}}, id='run-ed3b9dfd-7524-4a7d-8b29-26611aeb26c8-0', usage_metadata={'input_tokens': 8, 'output_tokens': 40, 'total_tokens': 48})]\n",
      "\n"
     ]
    }
   ],
   "source": [
    "for event in graph.stream({\"messages\": (\"user\", user_input)}):\n",
    "    print(event['chatbot']['messages'])\n",
    "    print()"
   ]
  },
  {
   "cell_type": "markdown",
   "id": "55295806-b30b-430d-8077-ad8e5db5e497",
   "metadata": {},
   "source": []
  }
 ],
 "metadata": {
  "kernelspec": {
   "display_name": "validate-llms",
   "language": "python",
   "name": "validate-llms"
  },
  "language_info": {
   "codemirror_mode": {
    "name": "ipython",
    "version": 3
   },
   "file_extension": ".py",
   "mimetype": "text/x-python",
   "name": "python",
   "nbconvert_exporter": "python",
   "pygments_lexer": "ipython3",
   "version": "3.11.5"
  },
  "vscode": {
   "interpreter": {
    "hash": "92b4e5b8717e25e3933aae00f04e309beeeb5d7f4834db217b3ec787faffa6c2"
   }
  }
 },
 "nbformat": 4,
 "nbformat_minor": 5
}
