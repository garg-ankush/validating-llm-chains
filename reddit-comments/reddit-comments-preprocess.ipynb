{
 "cells": [
  {
   "cell_type": "code",
   "execution_count": 41,
   "id": "3d20010a",
   "metadata": {},
   "outputs": [],
   "source": [
    "import json\n",
    "import pandas as pd\n",
    "from datasets import load_dataset\n",
    "import getpass\n",
    "import os\n",
    "import time\n",
    "\n",
    "import requests\n",
    "from langchain_community.tools.tavily_search import TavilySearchResults\n"
   ]
  },
  {
   "cell_type": "code",
   "execution_count": 22,
   "id": "e635f77d",
   "metadata": {},
   "outputs": [],
   "source": [
    "with open(\"/Users/ankushgarg/Downloads/climate_comments.json\", 'r') as json_file:\n",
    "    json_data = json.load(json_file)\n"
   ]
  },
  {
   "cell_type": "code",
   "execution_count": 38,
   "id": "f3695a95",
   "metadata": {},
   "outputs": [],
   "source": [
    "def _set_env(var: str):\n",
    "    if not os.environ.get(var):\n",
    "        os.environ[var] = getpass.getpass(f\"{var}: \")\n",
    "\n",
    "_set_env(\"ANTHROPIC_API_KEY\")"
   ]
  },
  {
   "cell_type": "code",
   "execution_count": 93,
   "id": "10aac181",
   "metadata": {},
   "outputs": [],
   "source": [
    "_set_env(\"TAVILY_API_KEY\")"
   ]
  },
  {
   "cell_type": "code",
   "execution_count": 275,
   "id": "d3bab1e6",
   "metadata": {},
   "outputs": [],
   "source": [
    "import logging\n",
    "import operator\n",
    "from typing import Annotated, List, Optional, TypedDict, Sequence\n",
    "from langchain_core.messages import BaseMessage\n",
    "\n",
    "logging.basicConfig(level=logging.WARNING)\n",
    "logger = logging.getLogger(\"reddit-comments\")\n",
    "\n",
    "class State(TypedDict):\n",
    "    prompts: Annotated[Sequence[BaseMessage], operator.add]\n",
    "    input: Annotated[Sequence[BaseMessage], operator.add]\n",
    "    replies: Annotated[Sequence[BaseMessage], operator.add]\n",
    "    keywords: Annotated[Sequence[BaseMessage], operator.add]\n",
    "    article_search: Annotated[Sequence[BaseMessage], operator.add]\n",
    "    comment_summaries: Annotated[Sequence[BaseMessage], operator.add]\n",
    "    generated_reply: Annotated[Sequence[BaseMessage], operator.add]\n"
   ]
  },
  {
   "cell_type": "code",
   "execution_count": 276,
   "id": "d4afe99f",
   "metadata": {},
   "outputs": [],
   "source": [
    "from langchain_anthropic import ChatAnthropic\n",
    "llm = ChatAnthropic(model='claude-3-haiku-20240307')"
   ]
  },
  {
   "cell_type": "code",
   "execution_count": 348,
   "id": "1c565ff4",
   "metadata": {},
   "outputs": [],
   "source": [
    "def extract_keywords_from_title(state: State):\n",
    "    input = state[\"input\"][-1]\n",
    "    \n",
    "    prompt = f\"\"\"Extract two most important keywords from the input. Please return them as a Python list of strings. Don't include any preamble, just the keywords in your response.\n",
    "    input: {input}\n",
    "    \"\"\" # We extracted two keywords from the title\n",
    "\n",
    "    response = llm.invoke(prompt)\n",
    "    return {\"keywords\":[response.content], \"prompts\": [prompt]}\n",
    "\n",
    "def tool_search(state: State):\n",
    "    keywords = state[\"keywords\"][-1]\n",
    "    \n",
    "    tool = TavilySearchResults(max_results=1, include_raw_content=True)\n",
    "\n",
    "    prompt = f\"Based on these keywords: {keywords}, please search for an article on the web.\"\n",
    "\n",
    "    response = tool.invoke(prompt)\n",
    "    return {\"article_search\": [response[0]], \"prompts\": [prompt]}\n",
    "\n",
    "\n",
    "def summarize_tone_sentiment_of_replies(state: State):\n",
    "    content = state[\"replies\"]\n",
    "\n",
    "    prompt = f\"\"\"Your goal is to extract a tone (single), sentiment (single) and summary (less than 100 words) the main point the comments are making. Analyze and output in JSON format with keys: \"tone\" (tone), \"sentiment\" (positive or negative), \"summary\" (main point the replies are making).\n",
    "    input: {content}\n",
    "    \"\"\"\n",
    "    response = llm.invoke(prompt)\n",
    "    return {\"comment_summaries\":[response.content], \"prompts\": [prompt]}\n",
    "\n",
    "def generate_reply(state: State):\n",
    "    url = \"\"\n",
    "    content = \"\"\n",
    "    tone = \"\"\n",
    "    sentiment = \"\"\n",
    "    summary = \"\"\n",
    "\n",
    "    try: \n",
    "        article_search = state.get(\"article_search\")[0]\n",
    "        url = article_search['url']\n",
    "        content = article_search['content']\n",
    "    except Exception as e:\n",
    "        print(e)\n",
    "        \n",
    "    try:\n",
    "        comment_summaries = json.loads(state.get(\"comment_summaries\")[0])\n",
    "        tone = comment_summaries['tone']\n",
    "        sentiment = comment_summaries['sentiment']\n",
    "        summary = comment_summaries['summary']\n",
    "        \n",
    "    except Exception as e:\n",
    "        print(e)\n",
    "\n",
    "    prompt = f\"\"\"Based on the this headline of the article: {content} and a summary of replies: {summary}, generate a reddit comment (in less than a 100 words) in this tone {tone} and sentiment: {sentiment}. Make sure to include the link to the url {url} in the reply itself. \n",
    "    Special instructions: No need to include a heading or any preamble, just report the comment.\n",
    "\"\"\"\n",
    "    response = llm.invoke(prompt)\n",
    "    return {\"generated_reply\":[response.content], \"prompts\": [prompt]}\n"
   ]
  },
  {
   "cell_type": "code",
   "execution_count": 349,
   "id": "affbb984",
   "metadata": {},
   "outputs": [],
   "source": [
    "from langgraph.graph import StateGraph, Graph, START, END\n",
    "\n",
    "workflow = StateGraph(State)\n",
    "\n",
    "workflow.add_node(\"extract_keywords_from_title\", extract_keywords_from_title)\n",
    "workflow.add_node(\"tool_search\", tool_search)\n",
    "workflow.add_node(\"summarize_tone_sentiment_of_replies\", summarize_tone_sentiment_of_replies)\n",
    "workflow.add_node(\"generate_reply\", generate_reply)\n",
    "\n",
    "workflow.add_edge(START, \"extract_keywords_from_title\")\n",
    "\n",
    "workflow.add_edge(\"extract_keywords_from_title\", \"tool_search\")\n",
    "workflow.add_edge(\"tool_search\", \"summarize_tone_sentiment_of_replies\")\n",
    "workflow.add_edge(\"summarize_tone_sentiment_of_replies\", \"generate_reply\")\n",
    "workflow.add_edge(\"generate_reply\", END)\n",
    "\n",
    "graph = workflow.compile()"
   ]
  },
  {
   "cell_type": "code",
   "execution_count": 350,
   "id": "1f53da55",
   "metadata": {},
   "outputs": [
    {
     "data": {
      "image/jpeg": "[encoded data removed]",
      "text/plain": [
       "<IPython.core.display.Image object>"
      ]
     },
     "metadata": {},
     "output_type": "display_data"
    }
   ],
   "source": [
    "from IPython.display import Image, display\n",
    "\n",
    "try:\n",
    "    display(Image(graph.get_graph().draw_mermaid_png()))\n",
    "except Exception as e:\n",
    "    print(e)\n",
    "    # This requires some extra dependencies and is optional\n",
    "    pass"
   ]
  },
  {
   "cell_type": "code",
   "execution_count": 370,
   "id": "0273c35b",
   "metadata": {},
   "outputs": [],
   "source": [
    "def write_to_file(response, post_id):\n",
    "    previous_responses = pd.read_excel(\"reddit-comments-eval.xlsx\", sheet_name=\"Sheet1\")\n",
    "\n",
    "    try:\n",
    "        post_id = {f\"post_id\": post_id}\n",
    "        prompts = {f\"prompt-{idx+1}\": r for idx, r in enumerate(response['prompts'])}\n",
    "        input = {f\"input-post\": r for _, r in enumerate(response['input'])}\n",
    "        replies = {f\"input-replies\": [r for idx, r in enumerate(response['replies'])]}\n",
    "        keywords = {f\"output-keywords\": response[\"keywords\"]}\n",
    "        article_search = {f\"output-article_search\" : response['article_search']}\n",
    "        output_replies = {f\"output-replies\": json.loads(response['comment_summaries'][0])}\n",
    "        reply = {f\"output-reply\": response[\"generated_reply\"]}\n",
    "\n",
    "        response_df = pd.DataFrame([{\n",
    "            **post_id,\n",
    "            **prompts, \n",
    "            **input, \n",
    "            **replies, \n",
    "            **keywords,\n",
    "            **article_search,\n",
    "            **output_replies,\n",
    "            **reply\n",
    "            }]) \n",
    "        \n",
    "        updated_responses = pd.concat([previous_responses, response_df])\n",
    "        updated_responses.to_excel(\"reddit-comments-eval.xlsx\", sheet_name=\"Sheet1\", index=False)\n",
    "\n",
    "    except Exception as e:\n",
    "        print(e)\n",
    "        updated_responses = pd.concat([previous_responses, pd.DataFrame()])\n",
    "        updated_responses['error'] = e\n",
    "        updated_responses.to_excel(\"reddit-comments-eval.xlsx\", sheet_name=\"Sheet1\", index=False)\n"
   ]
  },
  {
   "cell_type": "code",
   "execution_count": 372,
   "id": "4db37be4",
   "metadata": {},
   "outputs": [],
   "source": [
    "start = 0\n",
    "end = 10\n",
    "\n",
    "responses = {}\n",
    "for post in json_data['Posts'][start:end]:\n",
    "    post_id = post['PostID']\n",
    "    post_title = [post['PostTitle']]\n",
    "    comments = [i['CommentBody'] for i in post['Comments']]\n",
    "    \n",
    "    response = graph.invoke({\n",
    "        \"input\": post_title,\n",
    "        \"replies\": comments\n",
    "        })\n",
    "    responses[str(post_id)] = response\n",
    "\n"
   ]
  },
  {
   "cell_type": "code",
   "execution_count": 374,
   "id": "bee9a14a",
   "metadata": {},
   "outputs": [],
   "source": [
    "for post_id, response in responses.items():\n",
    "    write_to_file(response=response, post_id=post_id)"
   ]
  },
  {
   "cell_type": "code",
   "execution_count": null,
   "id": "779ae3ef",
   "metadata": {},
   "outputs": [],
   "source": []
  }
 ],
 "metadata": {
  "kernelspec": {
   "display_name": "Python 3 (ipykernel)",
   "language": "python",
   "name": "python3"
  },
  "language_info": {
   "codemirror_mode": {
    "name": "ipython",
    "version": 3
   },
   "file_extension": ".py",
   "mimetype": "text/x-python",
   "name": "python",
   "nbconvert_exporter": "python",
   "pygments_lexer": "ipython3",
   "version": "3.9.6"
  }
 },
 "nbformat": 4,
 "nbformat_minor": 5
}
