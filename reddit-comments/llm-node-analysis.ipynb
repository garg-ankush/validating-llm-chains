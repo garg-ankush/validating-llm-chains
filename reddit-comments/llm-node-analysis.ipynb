{
 "cells": [
  {
   "cell_type": "code",
   "execution_count": 1,
   "id": "3d20010a",
   "metadata": {},
   "outputs": [],
   "source": [
    "import json\n",
    "import uuid\n",
    "import pandas as pd\n",
    "\n",
    "import getpass\n",
    "import os"
   ]
  },
  {
   "cell_type": "code",
   "execution_count": 2,
   "id": "9dbdb5b6",
   "metadata": {},
   "outputs": [],
   "source": [
    "\n",
    "def _set_env(var: str):\n",
    "    if not os.environ.get(var):\n",
    "        os.environ[var] = getpass.getpass(f\"{var}: \")\n",
    "\n",
    "_set_env(\"ANTHROPIC_API_KEY\")"
   ]
  },
  {
   "cell_type": "code",
   "execution_count": 227,
   "id": "70012629-e5e7-426d-815d-d49db0e84cb3",
   "metadata": {},
   "outputs": [
    {
     "name": "stdout",
     "output_type": "stream",
     "text": [
      "Number of rows: 39\n"
     ]
    }
   ],
   "source": [
    "\n",
    "data = pd.read_excel(\"reddit-comments-eval.xlsx\")\n",
    "print(f\"Number of rows: {data.shape[0]}\")\n",
    "\n",
    "error_columns = ['keywords-node', 'tool-node', 'tone-summary-node', 'reply-node']"
   ]
  },
  {
   "cell_type": "code",
   "execution_count": 230,
   "id": "0bff37f8-c337-4866-96aa-f8c4067dc723",
   "metadata": {},
   "outputs": [
    {
     "data": {
      "text/plain": [
       "(35, 17)"
      ]
     },
     "execution_count": 230,
     "metadata": {},
     "output_type": "execute_result"
    }
   ],
   "source": [
    "data = data[~data['keywords-node'].isna()]\n",
    "data.shape\n",
    "# data[error_columns] = data[error_columns].astype(int).astype(bool)\n",
    "\n",
    "# data[error_columns].head()\n",
    "\n",
    "# data['no_errors'] = data[error_columns].all(axis=1)"
   ]
  },
  {
   "cell_type": "code",
   "execution_count": 149,
   "id": "00711f8a",
   "metadata": {},
   "outputs": [],
   "source": [
    "import logging\n",
    "import operator\n",
    "from typing import Annotated, List, Optional, TypedDict, Sequence\n",
    "from langchain_core.messages import BaseMessage\n",
    "\n",
    "logging.basicConfig(level=logging.WARNING)\n",
    "logger = logging.getLogger(\"reddit-comments\")\n",
    "\n",
    "class State(TypedDict):\n",
    "    batch_id: str\n",
    "    input: Annotated[Sequence[BaseMessage], operator.add]\n",
    "    output: Annotated[Sequence[BaseMessage], operator.add]\n",
    "    messages: Annotated[Sequence[BaseMessage], operator.add]\n"
   ]
  },
  {
   "cell_type": "code",
   "execution_count": 150,
   "id": "df5924a6",
   "metadata": {},
   "outputs": [],
   "source": [
    "from langchain_anthropic import ChatAnthropic\n",
    "llm = ChatAnthropic(model='claude-3-5-sonnet-20240620')"
   ]
  },
  {
   "cell_type": "code",
   "execution_count": 200,
   "id": "a2cf46c3",
   "metadata": {},
   "outputs": [],
   "source": [
    "def validate_llm_performance(state: State):\n",
    "    batch_id = state[\"batch_id\"][-1]\n",
    "    input = state['input'][-1]\n",
    "    output = state['output'][-1]\n",
    "\n",
    "    prompt = f\"\"\"You are a validator who is diligent and careful. When things are incorrect, you call it out and nothing gets past you.\n",
    "    Given a input and ouput, your goal is to check if the output followed the directions in the input.\n",
    "\n",
    "    Special instructions: \n",
    "    1. If the input task was to format something as a python list of strings, you can ignore that. \n",
    "    2. If the task is to extract two words, and more words have been extracted, ignore that. That output is correct.\n",
    "    3. If there is a word-limit, you can ignore that as well as long as the output is close to the requested word limit.\n",
    "\n",
    "    Analyze and output in JSON format with keys: \"reason\" (the reason why this is correct or incorrect), \"check\" (1 for correct and 0 for incorrect)\n",
    "    \n",
    "    Please, absolutely no preamble in the response, just a json output. You'll be penalized otherwise.\n",
    "\n",
    "    Input: {input}\n",
    "    Output: {output}\n",
    "    \n",
    "\n",
    "    \"\"\"\n",
    "    response = llm.invoke(prompt)\n",
    "    return {\"batch_id\": batch_id,\"input\": [input], \"output\":[output], \"messages\": [response.content]}\n"
   ]
  },
  {
   "cell_type": "code",
   "execution_count": 201,
   "id": "af042a4a",
   "metadata": {},
   "outputs": [],
   "source": [
    "from langgraph.graph import StateGraph, Graph, START, END\n",
    "\n",
    "workflow = StateGraph(State)\n",
    "\n",
    "workflow.add_node(\"validate_llm_performance\", validate_llm_performance)\n",
    "\n",
    "workflow.add_edge(START, \"validate_llm_performance\")\n",
    "workflow.add_edge(\"validate_llm_performance\", END)\n",
    "\n",
    "graph = workflow.compile()\n"
   ]
  },
  {
   "cell_type": "code",
   "execution_count": 202,
   "id": "3cbfa0b0",
   "metadata": {},
   "outputs": [
    {
     "data": {
      "image/jpeg": "[encoded data removed]",
      "text/plain": [
       "<IPython.core.display.Image object>"
      ]
     },
     "metadata": {},
     "output_type": "display_data"
    }
   ],
   "source": [
    "from IPython.display import Image, display\n",
    "\n",
    "try:\n",
    "    display(Image(graph.get_graph().draw_mermaid_png()))\n",
    "except Exception as e:\n",
    "    print(e)\n",
    "    # This requires some extra dependencies and is optional\n",
    "    pass"
   ]
  },
  {
   "cell_type": "code",
   "execution_count": 234,
   "id": "25b317f7",
   "metadata": {},
   "outputs": [],
   "source": [
    "start = 31\n",
    "end = 40\n",
    "\n",
    "mappings = [\n",
    "    ('prompt-1', 'output-keywords'),\n",
    "    ('prompt-2', 'output-article_search'),\n",
    "    ('prompt-3', 'output-replies'),\n",
    "    ('prompt-4', 'output-reply')\n",
    "    ]\n",
    "\n",
    "llm_evals_of_entire_posts = {}\n",
    "for index, row in data[start:end].iterrows():\n",
    "    # Cycle through each post's input and outputs.\n",
    "    # Each post has 4 prompts and 4 outputs\n",
    "    json_data = row.to_dict()\n",
    "    batch_id = json_data['post_id']\n",
    "\n",
    "    # Cycle through each input/output prompt/response generated by the LLM and evaluate it\n",
    "    input_output_evaluation = []\n",
    "    for prompt_key, output_key in mappings:\n",
    "        prompt_text = json_data.get(prompt_key, None)\n",
    "        output_text = json_data.get(output_key, None)\n",
    "        evaluation_response = graph.invoke({\"batch_id\": [batch_id], \"input\": [prompt_text], \"output\": [output_text]})\n",
    "        input_output_evaluation.append(evaluation_response)\n",
    "\n",
    "    llm_evals_of_entire_posts[batch_id] = input_output_evaluation\n"
   ]
  },
  {
   "cell_type": "code",
   "execution_count": 235,
   "id": "bc167791",
   "metadata": {},
   "outputs": [],
   "source": [
    "def write_to_file(post_id, post_evaluation):\n",
    "    previous_responses = pd.read_excel(\"llm-evals.xlsx\", sheet_name=\"Sheet1\")\n",
    "\n",
    "    checks = {f\"check-{idx+1}\": json.loads(r['messages'][0])['check'] for idx, r in enumerate(post_evaluation)}\n",
    "    reasons = {f\"reason-{idx+1}\": json.loads(r['messages'][0])['reason'] for idx, r in enumerate(post_evaluation)}\n",
    "    inputs = {f\"input-{idx+1}\": r[\"input\"][0] for idx, r in enumerate(post_evaluation)}\n",
    "    outputs = {f\"output-{idx+1}\": r[\"output\"][0] for idx, r in enumerate(post_evaluation)}\n",
    "\n",
    "    checks_pd = pd.DataFrame([{**inputs, **outputs, **checks, **reasons}])  \n",
    "    checks_pd['batch_id'] = post_id \n",
    "\n",
    "    updated_responses = pd.concat([previous_responses, checks_pd])\n",
    "    updated_responses.to_excel(\"llm-evals.xlsx\", sheet_name=\"Sheet1\", index=False)"
   ]
  },
  {
   "cell_type": "code",
   "execution_count": 236,
   "id": "04776d40",
   "metadata": {},
   "outputs": [],
   "source": [
    "for post_id, post_evaluation in llm_evals_of_entire_posts.items():\n",
    "    try:\n",
    "        write_to_file(post_id, post_evaluation)\n",
    "    except Exception as e:\n",
    "        print(post_id, e)\n"
   ]
  },
  {
   "cell_type": "markdown",
   "id": "5873fc19",
   "metadata": {},
   "source": [
    "# Analysis"
   ]
  },
  {
   "cell_type": "code",
   "execution_count": 268,
   "id": "f2830615",
   "metadata": {},
   "outputs": [],
   "source": [
    "data_llm_outputs = pd.read_excel(\"llm-evals.xlsx\")\n",
    "data_llm_outputs.rename(columns={\n",
    "    \"check-1\": \"keywords-node\",\n",
    "    \"check-2\": \"tool-node\",\n",
    "    \"check-3\": \"tone-summary-node\",\n",
    "    \"check-4\": \"reply-node\"\n",
    "}, inplace=True)"
   ]
  },
  {
   "cell_type": "code",
   "execution_count": 269,
   "id": "5c568a48",
   "metadata": {},
   "outputs": [],
   "source": [
    "class Node:\n",
    "    def __init__(self, name):\n",
    "        self.name = name\n",
    "        self.parents = []\n",
    "\n",
    "    def add_parent(self, parent):\n",
    "        self.parents.append(parent)\n",
    "    \n",
    "def create_graph():\n",
    "    nodes = {\n",
    "        \"keywords-node\": Node(\"keywords-node\"),\n",
    "        \"tool-node\": Node(\"tool-node\"),\n",
    "        \"tone-summary-node\": Node(\"tone-summary-node\"),\n",
    "        \"reply-node\": Node(\"reply-node\")\n",
    "    }\n",
    "\n",
    "    nodes['reply-node'].add_parent(nodes['tone-summary-node'])\n",
    "    nodes['tone-summary-node'].add_parent(nodes['tool-node'])\n",
    "    nodes['tool-node'].add_parent(nodes['keywords-node'])\n",
    "\n",
    "    return nodes"
   ]
  },
  {
   "cell_type": "code",
   "execution_count": 270,
   "id": "ddf3792e",
   "metadata": {},
   "outputs": [
    {
     "data": {
      "text/plain": [
       "{'keywords-node': <__main__.Node at 0x16cd5d970>,\n",
       " 'tool-node': <__main__.Node at 0x16cd5da30>,\n",
       " 'tone-summary-node': <__main__.Node at 0x16cd5dd90>,\n",
       " 'reply-node': <__main__.Node at 0x16cd5d310>}"
      ]
     },
     "execution_count": 270,
     "metadata": {},
     "output_type": "execute_result"
    }
   ],
   "source": [
    "analysis_graph = create_graph()\n",
    "analysis_graph"
   ]
  },
  {
   "cell_type": "code",
   "execution_count": 271,
   "id": "3edd68e2",
   "metadata": {},
   "outputs": [
    {
     "name": "stdout",
     "output_type": "stream",
     "text": [
      "\n",
      "Analyzing node: reply-node\n",
      "Overall failure probability for this node: 0.1290\n",
      "Independent failure probability: 0.1333\n",
      "Node failure because dep fails: 0.0\n",
      "Conditional failure probabilities given upstream dependency failures:\n",
      "  P(reply-node fails | tone-summary-node fails): 0.0000\n",
      "\n",
      "\n",
      "Root cause analysis complete.\n",
      "Debug path (from downstream to upstream): reply-node\n",
      "Most likely root cause (most upstream issue): reply-node\n",
      "Independent failure probability of root cause: 0.1333\n",
      "Conditional failure probabilities given root cause's dependency failures:\n",
      "  P(reply-node fails | tone-summary-node fails): 0.0000\n",
      "\n",
      "The most likely cause is an independent failure in node reply-node\n",
      "Focus on node: (['reply-node'], 0.13333333333333333, {'tone-summary-node': 0.0})\n"
     ]
    }
   ],
   "source": [
    "# Rewritten code\n",
    "\n",
    "from typing import Dict, List, Tuple\n",
    "\n",
    "def calculate_probabilities(node: str, data: pd.DataFrame, dependencies: List[Node]) -> Tuple[float, Dict[str, float]]:\n",
    "    \"\"\"Calculate failure probabilities for the node and its upstream dependencies.\"\"\"\n",
    "    node_fails = data[node] == False\n",
    "    p_node_fails = node_fails.mean()\n",
    "    \n",
    "    # Calculate independent failure probability\n",
    "    if not dependencies:\n",
    "        p_independent_fail = p_node_fails\n",
    "    else:\n",
    "        deps_pass = data[[dep.name for dep in dependencies]].all(axis=1)\n",
    "        p_independent_fail = (node_fails & deps_pass).sum() / deps_pass.sum()\n",
    "    \n",
    "    # Calculate conditional failure probabilities for dependencies\n",
    "    p_node_fails_given_dep_fails = {}\n",
    "    for dep in dependencies:\n",
    "        dep_fails = data[dep.name] == False\n",
    "\n",
    "        p_node_fails_given_dep_fails[dep.name] = (node_fails & dep_fails).sum() / dep_fails.sum() if dep_fails.sum() != 0 else 0\n",
    "\n",
    "        \n",
    "    return p_node_fails, p_independent_fail, p_node_fails_given_dep_fails\n",
    "\n",
    "def find_root_cause(node: str, data: pd.DataFrame, graph: Dict[str, Node]) -> Tuple[List[str], float, Dict[str, float]]:\n",
    "    \"\"\"Recursively find the root cause of failures, tracing from downstream to upstream.\"\"\"\n",
    "    dependencies = graph[node].parents  # These are upstream nodes\n",
    "\n",
    "    p_node_fails, p_independent_fail, p_node_fails_given_dep_fails = calculate_probabilities(node, data, dependencies)\n",
    "    \n",
    "    print(f\"Analyzing node: {node}\")\n",
    "    print(f\"Overall failure probability for this node: {p_node_fails:.4f}\")\n",
    "    print(f\"Independent failure probability: {p_independent_fail:.4f}\")\n",
    "    print(f\"Node failure because dep fails: {max([v for _, v in p_node_fails_given_dep_fails.items()])}\")\n",
    "    print(f\"Conditional failure probabilities given upstream dependency failures:\")\n",
    "    for dep, prob in p_node_fails_given_dep_fails.items():\n",
    "        print(f\"  P({node} fails | {dep} fails): {prob:.4f}\")\n",
    "    print()\n",
    "    \n",
    "    # Check if independent failure is more likely than any upstream dependency failure\n",
    "    if p_independent_fail > max(p_node_fails_given_dep_fails.values(), default=0) :\n",
    "        return [node], p_independent_fail, p_node_fails_given_dep_fails\n",
    "\n",
    "    if not dependencies:\n",
    "        return [node], p_independent_fail, p_node_fails_given_dep_fails\n",
    "\n",
    "    max_dep = max(p_node_fails_given_dep_fails, key=p_node_fails_given_dep_fails.get)\n",
    "    upstream_path, upstream_independent_prob, upstream_final_probs = find_root_cause(max_dep, data, graph)\n",
    "    \n",
    "    return [node] + upstream_path, upstream_independent_prob, upstream_final_probs\n",
    "\n",
    "def improve_system(downstream_node: str, data: pd.DataFrame, graph: Dict[str, Node]) -> Tuple[List[str], float, Dict[str, float]]:\n",
    "    \"\"\"Entry point for the root cause analysis, starting from the most downstream node.\"\"\"\n",
    "    path, independent_prob, final_probs = find_root_cause(downstream_node, data, graph)\n",
    "    \n",
    "    print(\"\\nRoot cause analysis complete.\")\n",
    "    print(f\"Debug path (from downstream to upstream): {' -> '.join(path)}\")\n",
    "    print(f\"Most likely root cause (most upstream issue): {path[-1]}\")\n",
    "    print(f\"Independent failure probability of root cause: {independent_prob:.4f}\")\n",
    "    print(\"Conditional failure probabilities given root cause's dependency failures:\")\n",
    "    for dep, prob in final_probs.items():\n",
    "        print(f\"  P({path[-1]} fails | {dep} fails): {prob:.4f}\")\n",
    "    \n",
    "    if independent_prob > max(final_probs.values(), default=0):\n",
    "        print()\n",
    "        print(f\"The most likely cause is an independent failure in node {path[-1]}\")\n",
    "    else:\n",
    "        most_likely_dep = max(final_probs.values(), default=0)\n",
    "        print()\n",
    "        print(f\"The most likely cause is a failure in dependency: {most_likely_dep}\")\n",
    "    \n",
    "    return path, independent_prob, final_probs\n",
    "\n",
    "print()\n",
    "print(f\"Focus on node: {improve_system('reply-node', data=data_llm_outputs, graph=analysis_graph)}\")"
   ]
  },
  {
   "cell_type": "code",
   "execution_count": null,
   "id": "37d24abd",
   "metadata": {},
   "outputs": [],
   "source": []
  }
 ],
 "metadata": {
  "kernelspec": {
   "display_name": "Python 3 (ipykernel)",
   "language": "python",
   "name": "python3"
  },
  "language_info": {
   "codemirror_mode": {
    "name": "ipython",
    "version": 3
   },
   "file_extension": ".py",
   "mimetype": "text/x-python",
   "name": "python",
   "nbconvert_exporter": "python",
   "pygments_lexer": "ipython3",
   "version": "3.9.6"
  }
 },
 "nbformat": 4,
 "nbformat_minor": 5
}
