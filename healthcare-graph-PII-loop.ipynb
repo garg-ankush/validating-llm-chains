{
 "cells": [
  {
   "cell_type": "code",
   "execution_count": 1,
   "id": "9bf51028-5e52-4909-8d91-33efc66dde6f",
   "metadata": {},
   "outputs": [],
   "source": [
    "import uuid"
   ]
  },
  {
   "cell_type": "code",
   "execution_count": 2,
   "id": "f80123e9-70ec-4771-97e0-b88c54f08eed",
   "metadata": {},
   "outputs": [],
   "source": [
    "import getpass\n",
    "import os\n",
    "\n",
    "def _set_env(var: str):\n",
    "    if not os.environ.get(var):\n",
    "        os.environ[var] = getpass.getpass(f\"{var}: \")\n",
    "\n",
    "_set_env(\"ANTHROPIC_API_KEY\")"
   ]
  },
  {
   "cell_type": "code",
   "execution_count": 3,
   "id": "4f5dc672-a592-400c-bf5b-c05231d11f32",
   "metadata": {},
   "outputs": [],
   "source": [
    "%%capture --no-stderr\n",
    "%pip install -U langgraph langchain_anthropic langsmith langchain\n",
    "# For the embedding-based classifier use in phase 2\n",
    "%pip install -U sklearn langchain_openai\n",
    "%pip install -U langchain-community"
   ]
  },
  {
   "cell_type": "code",
   "execution_count": 4,
   "id": "5bdb7444-be2f-49fd-ac09-3f955bd0c800",
   "metadata": {},
   "outputs": [],
   "source": [
    "# (Optional) Enable tracing\n",
    "os.environ[\"LANGCHAIN_TRACING_V2\"] = \"true\"\n",
    "os.environ[\"LANGCHAIN_PROJECT\"] = \"healthcare-transcripts\"\n",
    "\n",
    "if \"LANGCHAIN_API_KEY\" not in os.environ:\n",
    "    os.environ[\"LANGCHAIN_API_KEY\"] = getpass.getpass(\"Enter your LANGCHAIN_API_KEY: \")"
   ]
  },
  {
   "cell_type": "code",
   "execution_count": 5,
   "id": "4d4cbebb-dc55-4a7e-b9de-80a089cfded3",
   "metadata": {},
   "outputs": [],
   "source": [
    "import pandas as pd\n",
    "\n",
    "data = pd.read_parquet(\"hf://datasets/urvog/llama2_transcripts_healthcare_callcenter/data/train-00000-of-00001-643ef6d7d804c522.parquet\")"
   ]
  },
  {
   "cell_type": "code",
   "execution_count": 6,
   "id": "e20d91c2-9dfe-4c4a-91e6-464ef18d8c3b",
   "metadata": {},
   "outputs": [],
   "source": [
    "import logging\n",
    "import operator\n",
    "from typing import Annotated, List, Optional, TypedDict, Sequence\n",
    "from langchain_core.messages import BaseMessage\n",
    "\n",
    "logging.basicConfig(level=logging.WARNING)\n",
    "logger = logging.getLogger(\"health-chats-graph\")\n",
    "\n",
    "class State(TypedDict):\n",
    "    messages: Annotated[Sequence[BaseMessage], operator.add]\n",
    "    prompt: Annotated[Sequence[BaseMessage], operator.add]\n",
    "    counter: int"
   ]
  },
  {
   "cell_type": "code",
   "execution_count": 7,
   "id": "d830a5a5-4448-4618-b331-96152b31d20f",
   "metadata": {},
   "outputs": [],
   "source": [
    "from langchain_anthropic import ChatAnthropic\n",
    "llm = ChatAnthropic(model='claude-3-haiku-20240307')\n",
    "\n",
    "def remove_PII_information(state: State):\n",
    "    user_input = state['messages'][-1]\n",
    "\n",
    "    prompt = f\"\"\"Your task is to remove any PII information from the input. This PII information could be name, birthdate, policy number, medications, etc.\n",
    "    Refer to the patient as \"patient\". {user_input}\n",
    "    \"\"\"\n",
    "\n",
    "    correction_prompt = f\"\"\"Your previous task was to remove PII information from the user input. Check if you've removed all the instances of PII. \n",
    "    If you have missed something, remove it, add the word \"Amended\" at the beginning of the output, and return the corrected task output. \n",
    "    If you think that there's no PII information remaining, return the input as is.\n",
    "    + {user_input}\"\"\"\n",
    "    \n",
    "\n",
    "    if state['counter'] is None:\n",
    "        counter = 0\n",
    "        response = llm.invoke(prompt)\n",
    "        return {\"messages\": [response.content], \"prompt\": [prompt], \"counter\": [counter]}\n",
    "    \n",
    "    counter = int(state['counter'][0]) + 1\n",
    "    response = llm.invoke(prompt)\n",
    "    return {\"messages\": [response.content], \"prompt\": [correction_prompt], \"counter\": [counter]}\n",
    " \n",
    " \n",
    "def get_symptoms_and_recommendations(state: State):\n",
    "    agent_output = state['messages'][-1]\n",
    "\n",
    "    prompt = \"\"\"\n",
    "    You have a task to return a dictionary with three keys - main_reason, symptoms and recommendations. If there's nothing for these categories, simply say \"N/A\"\n",
    "\n",
    "    1. For main_reason, list the main reason for why the patient called.\n",
    "    1. For symptoms, simply write what the symptoms patient reported.\n",
    "    2. For recommendations, list two recommendations that the agent recommended. \n",
    "\n",
    "    Here's the format I'm expecting:\n",
    "    {\n",
    "        \"main_reason: [],\n",
    "        \"symptoms\": [],\n",
    "        \"recommendations\": []\n",
    "    }\n",
    "    \"\"\" + agent_output\n",
    "    \n",
    "    response = llm.invoke(prompt)\n",
    "    return {\"messages\": [response.content], \"prompt\": [prompt]}\n",
    "\n",
    "def create_a_general_summary(state: State):\n",
    "    agent_output = state['messages'][-1]\n",
    "    \n",
    "    prompt = \"\"\"\n",
    "    Given the input, create a general summary with less than 150 words.\"\"\" + agent_output\n",
    "\n",
    "    response = llm.invoke(prompt)\n",
    "    return {\"messages\": [response.content],  \"prompt\": [prompt]}\n",
    "\n",
    "def should_continue(state: State):\n",
    "    # Check if we should continue to the next step or loop over the current\n",
    "    counter = state[\"counter\"][0]\n",
    "    if counter == 3:\n",
    "        return \"extract\"\n",
    "    return \"continue\"\n",
    "\n",
    "def write_to_file(state: State):    \n",
    "    previous_responses = pd.read_excel(\"responses.xlsx\", sheet_name=\"Sheet1\")\n",
    "\n",
    "    all_prompts = {f\"prompt-{idx}\": prompt for idx, prompt in enumerate(state['prompt'])}\n",
    "    all_responses = {f\"response-{idx+1}\": response for idx, response in enumerate(state['messages'][1:])}\n",
    "    document = {\"document\": state['messages'][0]}\n",
    "    batch_id = {\"batch_id\": uuid.uuid1().hex}    \n",
    "    \n",
    "    updated_responses = pd.concat([\n",
    "        previous_responses,\n",
    "        pd.DataFrame([{**document, **batch_id, **all_prompts, **all_responses}])\n",
    "    ])\n",
    "    updated_responses.to_excel(\"responses.xlsx\", index=False)\n",
    "    "
   ]
  },
  {
   "cell_type": "code",
   "execution_count": 8,
   "id": "654c3ed0-2bc3-49d5-b54a-c7c059bdd9f7",
   "metadata": {},
   "outputs": [],
   "source": [
    "from langgraph.graph import StateGraph, Graph, START, END\n",
    "\n",
    "workflow = StateGraph(State)\n",
    "\n",
    "workflow.add_node(\"pii_agent\", remove_PII_information)\n",
    "workflow.add_node(\"extractor\", get_symptoms_and_recommendations)\n",
    "workflow.add_node(\"summarizer\", create_a_general_summary)\n",
    "workflow.add_node(\"writer\", write_to_file)\n",
    "\n",
    "# workflow.add_edge(\"pii_agent\", \"extractor\")\n",
    "workflow.add_edge(\"extractor\", \"summarizer\")\n",
    "workflow.add_edge(\"summarizer\", \"writer\")\n",
    "workflow.add_edge(START, \"pii_agent\")\n",
    "workflow.add_edge(\"writer\", END)\n",
    "# workflow.add_edge(\"pii_agent\", END)\n",
    "# workflow.add_edge(\"extractor\", END)\n",
    "\n",
    "workflow.add_conditional_edges(\n",
    "    \"pii_agent\",\n",
    "    should_continue,\n",
    "    {\n",
    "        \"continue\": \"pii_agent\",\n",
    "        \"extract\": \"extractor\"\n",
    "    }\n",
    ")\n",
    "\n",
    "graph = workflow.compile()\n"
   ]
  },
  {
   "cell_type": "code",
   "execution_count": 9,
   "id": "03f12747-7f88-48c5-9246-587b56f98be1",
   "metadata": {},
   "outputs": [
    {
     "data": {
      "image/jpeg": "[encoded data removed]",
      "text/plain": [
       "<IPython.core.display.Image object>"
      ]
     },
     "metadata": {},
     "output_type": "display_data"
    }
   ],
   "source": [
    "from IPython.display import Image, display\n",
    "\n",
    "try:\n",
    "    display(Image(graph.get_graph().draw_mermaid_png()))\n",
    "except Exception as e:\n",
    "    print(e)\n",
    "    # This requires some extra dependencies and is optional\n",
    "    pass"
   ]
  },
  {
   "cell_type": "code",
   "execution_count": 29,
   "id": "bd5f6b1b-dae7-449d-832f-d85bb136e5bf",
   "metadata": {},
   "outputs": [],
   "source": [
    "input_text = \"<s>[INST] Classify the following call transcript:\\n\\nAgent 4: Thank you for calling HealthHarbor. My name is Agent 4. How may I assist you today?\\n\\nCustomer: Hi, Agent 4. My name is Emily Johnson. I recently had a surgery at your hospital, and I have some concerns about my recovery. I'm feeling quite worried.\\n\\nAgent 4: I'm sorry to hear that, Emily. I'm here to help. Can you please share some details about your surgery and the concerns you have?\\n\\nCustomer: I had knee replacement surgery two weeks ago. While the pain has reduced, I'm still experiencing some discomfort and swelling. I'm worried if this is normal or if there's something wrong.\\n\\nAgent 4: I understand your concerns, Emily. It's normal to experience some discomfort and swelling during the recovery period. However, let me check your medical records to see if there's anything specific we need to address. Can you please provide me with your date of birth and the date of your surgery?\\n\\nCustomer: Certainly. My date of birth is January 15, 1975, and the surgery was conducted on August 5, 2022.\\n\\nAgent 4: Thank you for providing that information, Emily. I can see your records here. It seems you are still within the expected recovery timeline. However, I will schedule a follow-up appointment with your surgeon to discuss your concerns further. Would that be okay with you?\\n\\nCustomer: Yes, that would be great. I just want to ensure that everything is progressing as it should.\\n\\nAgent 4: Completely understandable, Emily. I will coordinate with your surgeon's office and schedule an appointment for you. You should receive a call from them within the next 24 hours to confirm the date and time. In the meantime, it's important to continue following the post-operative care instructions provided to you.\\n\\nCustomer: Thank you, Agent 4. I appreciate your help. I'll make sure to follow the instructions carefully.\\n\\nAgent 4: You're welcome, Emily. It's my pleasure to assist you. Is there anything else I can help you with today?\\n\\nCustomer: No, that's all for now. I feel much better knowing that I have a follow-up appointment scheduled. Thank you again for your assistance.\\n\\nAgent 4: You're welcome, Emily. I'm glad I could help. If you have any further questions or concerns, don't hesitate to reach out to us. Take care and have a speedy recovery.\\n\\nCustomer: Thank you, Agent 4. Goodbye.\\n\\nAgent 4: Goodbye, Emily. Have a great day. [/INST] Follow-up Calls and Care Management </s>\"\n",
    "\n",
    "output = graph.invoke({\"messages\": [input_text]})"
   ]
  },
  {
   "cell_type": "markdown",
   "id": "f68c84d7-92b3-4796-8797-b581a95e87e4",
   "metadata": {},
   "source": [
    "## Process some examples"
   ]
  },
  {
   "cell_type": "code",
   "execution_count": 10,
   "id": "8de94df6-1145-440a-844e-581b5599bc48",
   "metadata": {},
   "outputs": [],
   "source": [
    "all_outputs = []\n",
    "start = 5\n",
    "end = 20\n",
    "\n",
    "for transcript in data.iloc[start:end]['text'].values:\n",
    "    output = graph.invoke({\"messages\": [transcript]})\n",
    "    all_outputs.append(output)"
   ]
  },
  {
   "cell_type": "code",
   "execution_count": null,
   "id": "ced99a27",
   "metadata": {},
   "outputs": [],
   "source": []
  }
 ],
 "metadata": {
  "kernelspec": {
   "display_name": "validate-llms",
   "language": "python",
   "name": "validate-llms"
  },
  "language_info": {
   "codemirror_mode": {
    "name": "ipython",
    "version": 3
   },
   "file_extension": ".py",
   "mimetype": "text/x-python",
   "name": "python",
   "nbconvert_exporter": "python",
   "pygments_lexer": "ipython3",
   "version": "3.11.5"
  }
 },
 "nbformat": 4,
 "nbformat_minor": 5
}
